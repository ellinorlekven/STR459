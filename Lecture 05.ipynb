{
 "cells": [
  {
   "attachments": {},
   "cell_type": "markdown",
   "metadata": {},
   "source": [
    "## Exploratory data analysis (part 2)\n",
    "Unsupervised learning"
   ]
  },
  {
   "cell_type": "code",
   "execution_count": null,
   "metadata": {},
   "outputs": [],
   "source": [
    "import pandas as pd\n",
    "import numpy as np\n",
    "from sklearn.datasets import make_blobs\n",
    "from sklearn.cluster import KMeans\n",
    "from sklearn import datasets, cluster\n",
    "from matplotlib import pyplot as plt\n",
    "from scipy import ndimage\n",
    "from sklearn.preprocessing import StandardScaler\n",
    "from sklearn.decomposition import PCA\n"
   ]
  },
  {
   "cell_type": "code",
   "execution_count": null,
   "metadata": {},
   "outputs": [],
   "source": [
    "X, y = make_blobs(n_samples=150,\n",
    "                  n_features=2,\n",
    "                  centers=3,\n",
    "                  cluster_std=0.5,\n",
    "                  shuffle=True,\n",
    "                  random_state=0)"
   ]
  },
  {
   "cell_type": "code",
   "execution_count": null,
   "metadata": {},
   "outputs": [],
   "source": [
    "print(X[0:5])"
   ]
  },
  {
   "cell_type": "code",
   "execution_count": null,
   "metadata": {},
   "outputs": [],
   "source": [
    "plt.scatter(X[:,0], X[:,1],\n",
    "                  c = 'blue',\n",
    "                  marker='o',\n",
    "                  s=50)\n",
    "\n",
    "\n",
    "plt.xlabel('X[:,0]')\n",
    "plt.ylabel('X[:,1]')\n",
    "plt.title('Cluster')\n",
    "plt.grid()\n",
    "plt.show()"
   ]
  },
  {
   "attachments": {},
   "cell_type": "markdown",
   "metadata": {},
   "source": [
    "### K-Means\n",
    "It requires that we know the number of clusters"
   ]
  },
  {
   "cell_type": "code",
   "execution_count": null,
   "metadata": {},
   "outputs": [],
   "source": [
    "km = KMeans(n_clusters=3,\n",
    "            init= 'random',\n",
    "            n_init=10,\n",
    "            max_iter=300,\n",
    "            tol=1e-04,\n",
    "            random_state=0)\n",
    "\n",
    "y_km = km.fit_predict(X)"
   ]
  },
  {
   "cell_type": "code",
   "execution_count": null,
   "metadata": {},
   "outputs": [],
   "source": [
    "plt.scatter(X[y_km==0, 0], \n",
    "            X[y_km==0, 1],\n",
    "            s=50,\n",
    "            c='lightgreen',\n",
    "            marker='s',\n",
    "            label='cluster1'\n",
    "            )\n",
    "\n",
    "plt.scatter(X[y_km==1, 0], \n",
    "            X[y_km==1, 1],\n",
    "            s=50,\n",
    "            c='orange',\n",
    "            marker='s',\n",
    "            label='cluster1'\n",
    "            )\n",
    "\n",
    "plt.scatter(X[y_km==2, 0], \n",
    "            X[y_km==2, 1],\n",
    "            s=50,\n",
    "            c='lightblue',\n",
    "            marker='s',\n",
    "            label='cluster1'\n",
    "            )\n",
    "\n",
    "plt.scatter(km.cluster_centers_[:,0],\n",
    "            km.cluster_centers_[:,1],\n",
    "            s=250,\n",
    "            marker='*',\n",
    "            c='red',\n",
    "            label='centroids')\n",
    "\n",
    "plt.legend()\n",
    "plt.grid()\n",
    "plt.show()\n"
   ]
  },
  {
   "cell_type": "code",
   "execution_count": null,
   "metadata": {},
   "outputs": [],
   "source": [
    "# Example: why we need to know numbers of clusters\n",
    "X, y = make_blobs(n_samples=150,\n",
    "                  n_features=2,\n",
    "                  centers=5,        # Numbers of clusters\n",
    "                  cluster_std=0.5,\n",
    "                  shuffle=True,\n",
    "                  random_state=0)"
   ]
  },
  {
   "cell_type": "code",
   "execution_count": null,
   "metadata": {},
   "outputs": [],
   "source": [
    "plt.scatter(X[:,0], X[:,1],\n",
    "            c='blue',\n",
    "            marker='o',\n",
    "            s=20)\n",
    "\n",
    "plt.grid()\n",
    "plt.show()"
   ]
  },
  {
   "cell_type": "code",
   "execution_count": null,
   "metadata": {},
   "outputs": [],
   "source": [
    "km = KMeans(n_clusters=4)\n",
    "\n",
    "y_km = km.fit_predict(X)"
   ]
  },
  {
   "cell_type": "code",
   "execution_count": null,
   "metadata": {},
   "outputs": [],
   "source": [
    "plt.scatter(X[y_km==0, 0], \n",
    "            X[y_km==0, 1],\n",
    "            s=50,\n",
    "            c='lightgreen',\n",
    "            marker='s',\n",
    "            label='cluster1'\n",
    "            )\n",
    "\n",
    "plt.scatter(X[y_km==1, 0], \n",
    "            X[y_km==1, 1],\n",
    "            s=50,\n",
    "            c='orange',\n",
    "            marker='s',\n",
    "            label='cluster2'\n",
    "            )\n",
    "\n",
    "plt.scatter(X[y_km==2, 0], \n",
    "            X[y_km==2, 1],\n",
    "            s=50,\n",
    "            c='lightblue',\n",
    "            marker='s',\n",
    "            label='cluster3'\n",
    "            )\n",
    "\n",
    "plt.scatter(X[y_km==3, 0], \n",
    "            X[y_km==3, 1],\n",
    "            s=50,\n",
    "            c='pink',\n",
    "            marker='s',\n",
    "            label='cluster4'\n",
    "            )\n",
    "\n",
    "plt.scatter(km.cluster_centers_[:,0],\n",
    "            km.cluster_centers_[:,1],\n",
    "            s=250,\n",
    "            marker='*',\n",
    "            c='red',\n",
    "            label='centroids')\n",
    "\n",
    "plt.legend()\n",
    "plt.grid()\n",
    "plt.show()\n"
   ]
  },
  {
   "cell_type": "code",
   "execution_count": null,
   "metadata": {},
   "outputs": [],
   "source": [
    "distortion = []\n",
    "for i in range(1,11):\n",
    "    km = KMeans(n_clusters = i, init='k-means++', n_init=10)\n",
    "    km.fit(X)\n",
    "    distortion.append(km.inertia_)\n",
    "\n",
    "distortion\n"
   ]
  },
  {
   "cell_type": "code",
   "execution_count": null,
   "metadata": {},
   "outputs": [],
   "source": [
    "plt.plot(range(1,11), distortion, marker = 'o')\n",
    "plt.xlabel('#Clusters')\n",
    "plt.ylabel('distortions')\n",
    "plt.title('Elbow method')\n",
    "plt.grid()\n",
    "plt.show()\n"
   ]
  },
  {
   "attachments": {},
   "cell_type": "markdown",
   "metadata": {},
   "source": [
    "### Clustering with Iris dataset"
   ]
  },
  {
   "cell_type": "code",
   "execution_count": null,
   "metadata": {},
   "outputs": [],
   "source": [
    "iris = datasets.load_iris()\n",
    "X_iris = iris.data\n",
    "X_iris[0:5]"
   ]
  },
  {
   "attachments": {},
   "cell_type": "markdown",
   "metadata": {},
   "source": [
    "#### Elbou-method"
   ]
  },
  {
   "cell_type": "code",
   "execution_count": null,
   "metadata": {},
   "outputs": [],
   "source": [
    "distortion = []\n",
    "for i in range(1,11):\n",
    "    km = cluster.KMeans(n_clusters=i, n_init=10,\n",
    "                         init='k-means++') # k-means ++ (default) selects initial \n",
    "                                            # cluster center for k-mean clustering\n",
    "                                            # in a smart way to speed up convergence.\n",
    "    km.fit(X_iris)\n",
    "    distortion.append(km.inertia_)                                                        "
   ]
  },
  {
   "cell_type": "code",
   "execution_count": null,
   "metadata": {},
   "outputs": [],
   "source": [
    "plt.plot(range(1,11), distortion, marker = 'o')\n",
    "plt.xlabel('#Clusters')\n",
    "plt.ylabel('distortions')\n",
    "plt.title('IRIS dataset')\n",
    "plt.grid()\n",
    "plt.show()"
   ]
  },
  {
   "attachments": {},
   "cell_type": "markdown",
   "metadata": {},
   "source": [
    "#### k-means clustering"
   ]
  },
  {
   "cell_type": "code",
   "execution_count": null,
   "metadata": {},
   "outputs": [],
   "source": [
    "k_means = cluster.KMeans(n_clusters=3, n_init=10)\n",
    "k_means.fit(X_iris)\n",
    "k_means.get_params()"
   ]
  },
  {
   "cell_type": "code",
   "execution_count": null,
   "metadata": {},
   "outputs": [],
   "source": [
    "# The cluster labels\n",
    "k_means.labels_"
   ]
  },
  {
   "cell_type": "code",
   "execution_count": null,
   "metadata": {},
   "outputs": [],
   "source": [
    "# The cluster centroids \n",
    "k_means.cluster_centers_"
   ]
  },
  {
   "cell_type": "code",
   "execution_count": null,
   "metadata": {},
   "outputs": [],
   "source": [
    "# Sum of squared distances of samples to their closest cluster center, weighted by the sample weights if provided.\n",
    "k_means.inertia_"
   ]
  },
  {
   "cell_type": "code",
   "execution_count": null,
   "metadata": {},
   "outputs": [],
   "source": [
    "unseen_data = np.array([[5.5, 2.5, 4.5, 1.5], \n",
    "                        [7.0, 3.0, 6.0, 2.0]])\n"
   ]
  },
  {
   "cell_type": "code",
   "execution_count": null,
   "metadata": {},
   "outputs": [],
   "source": [
    "predictions = k_means.predict(unseen_data)\n",
    "print('unseen_data 1:', unseen_data[0])\n",
    "print('predicted cluster:', predictions[0])\n",
    "print(' ')\n",
    "print('unseen_data 2:', unseen_data[1])\n",
    "print('predicted cluster:', predictions[1])"
   ]
  },
  {
   "attachments": {},
   "cell_type": "markdown",
   "metadata": {},
   "source": [
    "#### Clustering in map"
   ]
  },
  {
   "cell_type": "code",
   "execution_count": null,
   "metadata": {},
   "outputs": [],
   "source": [
    "my_image = plt.imread('Data/europe.jpg')\n",
    "plt.imshow(my_image)\n",
    "plt.show()\n"
   ]
  },
  {
   "cell_type": "code",
   "execution_count": null,
   "metadata": {},
   "outputs": [],
   "source": [
    "x, y, z = my_image.shape\n",
    "my_image_2d = my_image.reshape(x*y, z)\n",
    "my_image_2d.shape"
   ]
  },
  {
   "cell_type": "code",
   "execution_count": null,
   "metadata": {},
   "outputs": [],
   "source": [
    "kmeans = cluster.KMeans(n_clusters=2, n_init=10)\n",
    "kmeans.fit(my_image_2d)\n",
    "cluster_labels = kmeans.labels_\n",
    "cluster_centroids = kmeans.cluster_centers_"
   ]
  },
  {
   "cell_type": "code",
   "execution_count": null,
   "metadata": {},
   "outputs": [],
   "source": [
    "output = cluster_centroids[cluster_labels].reshape(x,y,z)\n",
    "plt.imshow((output * 255).astype(np.uint8))"
   ]
  },
  {
   "cell_type": "code",
   "execution_count": null,
   "metadata": {},
   "outputs": [],
   "source": [
    "kmeans = cluster.KMeans(n_clusters=3, n_init=10)\n",
    "kmeans.fit(my_image_2d)\n",
    "cluster_labels = kmeans.labels_\n",
    "cluster_centroids = kmeans.cluster_centers_"
   ]
  },
  {
   "cell_type": "code",
   "execution_count": null,
   "metadata": {},
   "outputs": [],
   "source": [
    "my_image_3d = cluster_centroids[cluster_labels].reshape(x,y,z)\n",
    "plt.imshow((my_image_3d * 255).astype(np.uint8))"
   ]
  },
  {
   "cell_type": "code",
   "execution_count": null,
   "metadata": {},
   "outputs": [],
   "source": [
    "def generate_2D_clusters(n_samples, n_centers):\n",
    "    n_features = 2\n",
    "    X, y = make_blobs(n_samples, n_features, n_centers, cluster_std=0.5)\n",
    "    return X, y"
   ]
  },
  {
   "cell_type": "code",
   "execution_count": null,
   "metadata": {},
   "outputs": [],
   "source": [
    "def predict_and_plot_2D_clusters(n_samples, n_clusters):\n",
    "    X, y = generate_2D_clusters(n_samples, n_clusters)\n",
    "    km = KMeans(n_clusters)\n",
    "    y = km.fit_predict(X)\n",
    "    for clus in range(n_clusters):\n",
    "        plt.scatter(X[y==clus, 0], \n",
    "                    X[y==clus, 1], \n",
    "                    label = 'cluster')\n",
    "        plt.scatter(km.cluster_centers_[:,0], km.cluster_centers_[:,1], \n",
    "                    s=250, marker='*', c='red', label = 'centroids')\n",
    "    plt.xlabel('X[:,0]')\n",
    "    plt.ylabel('X[:,1]')\n",
    "    plt.title('Clusters')\n",
    "    plt.grid()\n",
    "    plt.show()    \n",
    "    \n"
   ]
  },
  {
   "cell_type": "code",
   "execution_count": null,
   "metadata": {},
   "outputs": [],
   "source": [
    "# predict_and_plot_2D_clusters(250, 6)"
   ]
  },
  {
   "attachments": {},
   "cell_type": "markdown",
   "metadata": {},
   "source": [
    "### Principle Component Analysis (PCA)\n",
    "Unsupervised transformation. Dimension reduction"
   ]
  },
  {
   "cell_type": "code",
   "execution_count": null,
   "metadata": {},
   "outputs": [],
   "source": [
    "iris\n",
    "X_iris = iris.data\n",
    "y_iris = iris.target"
   ]
  },
  {
   "cell_type": "code",
   "execution_count": null,
   "metadata": {},
   "outputs": [],
   "source": [
    "X_iris_stand = StandardScaler().fit_transform(X_iris)"
   ]
  },
  {
   "cell_type": "code",
   "execution_count": null,
   "metadata": {},
   "outputs": [],
   "source": [
    "print('Orgiginal Iris: \\n', X_iris[:10])\n",
    "print(' ')\n",
    "print('Standardized Iris: \\n', (X_iris_stand[:10]))"
   ]
  },
  {
   "cell_type": "code",
   "execution_count": null,
   "metadata": {},
   "outputs": [],
   "source": [
    "pca = PCA(n_components=2)\n",
    "X_iris_PCA = pca.fit_transform(X_iris_stand)"
   ]
  },
  {
   "cell_type": "code",
   "execution_count": null,
   "metadata": {},
   "outputs": [],
   "source": [
    "print('PC1', pca.components_[0])\n",
    "print(' ')\n",
    "print('PC2', pca.components_[1])\n"
   ]
  },
  {
   "cell_type": "code",
   "execution_count": null,
   "metadata": {},
   "outputs": [],
   "source": [
    "df_iris_pca = pd.DataFrame( data = X_iris_PCA)\n",
    "df_iris_pca.columns = ['PC 1', 'PC 2']\n",
    "df_iris_target = pd.DataFrame(y_iris)\n",
    "\n",
    "df_iris_all = pd.concat([df_iris_pca, df_iris_target], axis = 1)\n",
    "df_iris_all"
   ]
  },
  {
   "cell_type": "code",
   "execution_count": null,
   "metadata": {},
   "outputs": [],
   "source": [
    "for i in range(0,4):\n",
    "    indices = (df_iris_target.iloc[:,0] == i)\n",
    "    plt.scatter(df_iris_all.loc[indices, 'PC 1'],\n",
    "                df_iris_all.loc[indices, 'PC 2'])\n",
    "    \n",
    "plt.title('Principal Component Analysis (PCA)')\n",
    "plt.xlabel('PC 1')\n",
    "plt.ylabel('PC 2')\n",
    "plt.grid()\n",
    "plt.show()\n",
    "\n",
    "\n"
   ]
  },
  {
   "cell_type": "code",
   "execution_count": null,
   "metadata": {},
   "outputs": [],
   "source": [
    "# Standardize df_growth\n",
    "df_growth = pd.read_csv('Data/data_growth.csv')\n",
    "\n",
    "plt.scatter(df_growth.loc[:,'x1'], df_growth.loc[:,'x2'])\n",
    "plt.title('Growth data')\n",
    "plt.xlabel('x1')\n",
    "plt.ylabel('x2')\n",
    "plt.show()"
   ]
  },
  {
   "cell_type": "code",
   "execution_count": null,
   "metadata": {},
   "outputs": [],
   "source": [
    "# Testing and show\n",
    "print(df_growth.loc[:,'x1'])\n",
    "print(df_growth.loc[:,'x2'])"
   ]
  },
  {
   "cell_type": "code",
   "execution_count": null,
   "metadata": {},
   "outputs": [],
   "source": [
    "# standardizing the data\n",
    "df_growth_sd = StandardScaler().fit_transform(df_growth)"
   ]
  },
  {
   "cell_type": "code",
   "execution_count": null,
   "metadata": {},
   "outputs": [],
   "source": [
    "pca = PCA(n_components=2)\n",
    "df_growth_pca= pca.fit_transform(df_growth_sd)"
   ]
  },
  {
   "cell_type": "code",
   "execution_count": null,
   "metadata": {},
   "outputs": [],
   "source": [
    "# Principal components (directions of maximum variance in the data)\n",
    "pca.components_"
   ]
  },
  {
   "cell_type": "code",
   "execution_count": null,
   "metadata": {},
   "outputs": [],
   "source": [
    "# Percentage of variance explained by each principal components\n",
    "pca.singular_values_"
   ]
  },
  {
   "cell_type": "code",
   "execution_count": null,
   "metadata": {},
   "outputs": [],
   "source": [
    "# The singular values corresponding to the principal components\n",
    "pca.explained_variance_ratio_"
   ]
  },
  {
   "cell_type": "code",
   "execution_count": null,
   "metadata": {},
   "outputs": [],
   "source": [
    "# Original data (before applying PCA)\n",
    "plt.scatter(df_growth.loc[:,'x1'], df_growth.loc[:,'x2'])\n",
    "plt.title('Growth data')\n",
    "plt.xlabel('x1')\n",
    "plt.ylabel('x2')\n",
    "plt.show()"
   ]
  },
  {
   "cell_type": "code",
   "execution_count": null,
   "metadata": {},
   "outputs": [],
   "source": [
    "# Transformed data (after applying PCA)\n",
    "plt.scatter(df_growth_pca[:,0], df_growth_pca[:,1])\n",
    "plt.title('Principal component analysis')\n",
    "plt.xlabel('PC 1')\n",
    "plt.ylabel('PC 2')\n",
    "plt.yticks(np.arange(-1,1.5,0.5))\n",
    "plt.show()"
   ]
  }
 ],
 "metadata": {
  "kernelspec": {
   "display_name": "Python 3",
   "language": "python",
   "name": "python3"
  },
  "language_info": {
   "codemirror_mode": {
    "name": "ipython",
    "version": 3
   },
   "file_extension": ".py",
   "mimetype": "text/x-python",
   "name": "python",
   "nbconvert_exporter": "python",
   "pygments_lexer": "ipython3",
   "version": "3.9.15"
  },
  "orig_nbformat": 4
 },
 "nbformat": 4,
 "nbformat_minor": 2
}
