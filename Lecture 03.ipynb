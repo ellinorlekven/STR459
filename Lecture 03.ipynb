{
 "cells": [
  {
   "attachments": {},
   "cell_type": "markdown",
   "metadata": {},
   "source": [
    "## Working with data (part 2)"
   ]
  },
  {
   "cell_type": "code",
   "execution_count": null,
   "metadata": {},
   "outputs": [],
   "source": [
    "import matplotlib.pyplot as plt\n",
    "import numpy as np\n",
    "import pandas as pd"
   ]
  },
  {
   "cell_type": "code",
   "execution_count": null,
   "metadata": {},
   "outputs": [],
   "source": [
    "my_tuple1 = (1,3,5,11)"
   ]
  },
  {
   "cell_type": "code",
   "execution_count": null,
   "metadata": {},
   "outputs": [],
   "source": [
    "my_tuple1[3]"
   ]
  },
  {
   "cell_type": "code",
   "execution_count": null,
   "metadata": {},
   "outputs": [],
   "source": [
    "# Add elements to tuple \n",
    "# Method 1\n",
    "my_tuple1 = my_tuple1 + (77,)\n",
    "my_tuple1"
   ]
  },
  {
   "cell_type": "code",
   "execution_count": null,
   "metadata": {},
   "outputs": [],
   "source": [
    "# Method 2\n",
    "my_list = list(my_tuple1) \n",
    "my_list.append(77)\n",
    "my_tuple1 = tuple(my_list)\n",
    "print(my_tuple1)"
   ]
  },
  {
   "cell_type": "code",
   "execution_count": null,
   "metadata": {},
   "outputs": [],
   "source": [
    "my_tuple1 = (1,3,5,11,5,4,5)\n",
    "my_tuple1.count(5)"
   ]
  },
  {
   "cell_type": "code",
   "execution_count": null,
   "metadata": {},
   "outputs": [],
   "source": [
    "my_set1 = {3.14, 33, 5, 3}\n",
    "my_set2 = {3.14,'Mon',3,'Sun'}\n",
    "my_set3 = {'Mon','Tue','Wed','Thu','Fri','Sat','Sun'}\n"
   ]
  },
  {
   "cell_type": "code",
   "execution_count": null,
   "metadata": {},
   "outputs": [],
   "source": [
    "print(my_set2)"
   ]
  },
  {
   "cell_type": "code",
   "execution_count": null,
   "metadata": {},
   "outputs": [],
   "source": [
    "len(my_set2)"
   ]
  },
  {
   "cell_type": "code",
   "execution_count": null,
   "metadata": {},
   "outputs": [],
   "source": [
    "my_set2.add('Off')\n",
    "my_set2"
   ]
  },
  {
   "cell_type": "code",
   "execution_count": null,
   "metadata": {},
   "outputs": [],
   "source": [
    "my_set2.remove('Off')"
   ]
  },
  {
   "cell_type": "code",
   "execution_count": null,
   "metadata": {},
   "outputs": [],
   "source": [
    "union_set = my_set1 | my_set2\n",
    "union_set"
   ]
  },
  {
   "cell_type": "code",
   "execution_count": null,
   "metadata": {},
   "outputs": [],
   "source": [
    "my_dict = {'Kei1':'Mon',\n",
    " 'Key2':'Tue', \n",
    " 'Key3':'Wed',\n",
    " 'Key4':'Thu',\n",
    " 'Key5':'Fri'}"
   ]
  },
  {
   "cell_type": "code",
   "execution_count": null,
   "metadata": {},
   "outputs": [],
   "source": [
    "my_dict['Key3']"
   ]
  },
  {
   "cell_type": "code",
   "execution_count": null,
   "metadata": {},
   "outputs": [],
   "source": [
    "my_dict.update({'Key8':'Off'})"
   ]
  },
  {
   "cell_type": "code",
   "execution_count": null,
   "metadata": {},
   "outputs": [],
   "source": [
    "student_dict1 = {1:'John',2:'Sarah',3:'Ivan'}\n",
    "student_dict2 = {4:'Lara',5:'Mary'}"
   ]
  },
  {
   "cell_type": "code",
   "execution_count": null,
   "metadata": {},
   "outputs": [],
   "source": [
    "merged_dict = student_dict1.copy()\n",
    "merged_dict"
   ]
  },
  {
   "cell_type": "code",
   "execution_count": null,
   "metadata": {},
   "outputs": [],
   "source": [
    "merged_dict.update(student_dict2)\n"
   ]
  },
  {
   "cell_type": "code",
   "execution_count": null,
   "metadata": {},
   "outputs": [],
   "source": [
    "list_of_keys = [\"key1\",\"key2\",\"key3\"]\n",
    "list_of_values = [\"value1\",\"value2\",\"value3\"]\n",
    "zip_pairs = zip(list_of_keys,list_of_values)\n",
    "my_dict = dict(zip_pairs)\n",
    "\n",
    "print(my_dict)"
   ]
  },
  {
   "cell_type": "code",
   "execution_count": null,
   "metadata": {},
   "outputs": [],
   "source": [
    "dist = np.linspace(0, 10, 100)\n",
    "taxi_1 = dist.copy()\n",
    "plt.plot(taxi_1, dist)\n",
    "plt.xlabel(\"dist [km]\")\n",
    "plt.ylabel(\"price [Euro]\")\n",
    "plt.show()"
   ]
  },
  {
   "cell_type": "code",
   "execution_count": null,
   "metadata": {},
   "outputs": [],
   "source": [
    "taxi_2 = (dist ** 2) / 10\n",
    "plt.plot(dist, taxi_1)\n",
    "plt.plot(dist, taxi_2)\n",
    "plt.legend([\"Taxi 1\",\"Taxi 2\"])\n",
    "plt.xlabel(\"dist [km]\")\n",
    "plt.ylabel(\"price [Euro]\")\n",
    "plt.title(\"Taxi Cost\")\n",
    "plt.show()"
   ]
  },
  {
   "cell_type": "code",
   "execution_count": null,
   "metadata": {},
   "outputs": [],
   "source": [
    "taxi_2 = (dist ** 2) / 10\n",
    "plt.plot(dist, taxi_1)\n",
    "plt.plot(dist, taxi_2)\n",
    "plt.legend([\"Taxi 1\",\"Taxi 2\"])\n",
    "plt.xlabel(\"dist [km]\")\n",
    "plt.ylabel(\"price [Euro]\")\n",
    "plt.title(\"Taxi Cost\")\n",
    "plt.xticks(np.arange(0, 16, step=2))\n",
    "plt.yticks(np.arange(0, 16, step=2))\n",
    "plt.show()"
   ]
  },
  {
   "cell_type": "code",
   "execution_count": null,
   "metadata": {},
   "outputs": [],
   "source": [
    "taxi_2 = (dist ** 2) / 10\n",
    "plt.plot(dist, taxi_1)\n",
    "plt.plot(dist, taxi_2)\n",
    "plt.legend([\"Taxi 1\",\"Taxi 2\"])\n",
    "plt.xlabel(\"dist [km]\")\n",
    "plt.ylabel(\"price [Euro]\")\n",
    "plt.title(\"Taxi Cost\")\n",
    "plt.xticks(np.arange(0, 16, step=5))\n",
    "plt.yticks(np.arange(0, 16, step=5))\n",
    "plt.show()"
   ]
  },
  {
   "cell_type": "code",
   "execution_count": null,
   "metadata": {},
   "outputs": [],
   "source": [
    "taxi_2 = (dist ** 2) / 10\n",
    "plt.plot(dist, taxi_1)\n",
    "plt.plot(dist, taxi_2)\n",
    "plt.legend([\"Taxi 1\",\"Taxi 2\"])\n",
    "plt.xlabel(\"dist [km]\")\n",
    "plt.ylabel(\"price [Euro]\")\n",
    "plt.title(\"Taxi Cost\")\n",
    "plt.xticks(np.arange(12,step=2),('origin','very close', 'close','far', 'very far','outside'))\n",
    "plt.yticks(np.arange(12,step=2), ('min','very low', 'low', 'high', 'very high','max'))\n",
    "plt.show()"
   ]
  },
  {
   "cell_type": "code",
   "execution_count": null,
   "metadata": {},
   "outputs": [],
   "source": [
    "data = {\"x\": [10,11,12,13,14,15], \"y\": [22,24,26,28,26,24]}\n",
    "df = pd.DataFrame(data)\n",
    "df\n"
   ]
  },
  {
   "cell_type": "code",
   "execution_count": null,
   "metadata": {},
   "outputs": [],
   "source": [
    "def plot_dataframe(my_df):\n",
    "    plt.plot(my_df.loc[:,\"x\"],my_df.loc[:,\"y\"])\n",
    "    plt.xlabel(\"x\")\n",
    "    plt.ylabel(\"y\")\n",
    "    plt.title(\"my_df plot\")\n",
    "    plt.show()"
   ]
  },
  {
   "cell_type": "code",
   "execution_count": null,
   "metadata": {},
   "outputs": [],
   "source": [
    "plot_dataframe(df)"
   ]
  },
  {
   "cell_type": "code",
   "execution_count": null,
   "metadata": {},
   "outputs": [],
   "source": [
    "plt.figure(figsize=(10,3), dpi=80)\n",
    "plt.plot(dist, taxi_1, color=\"blue\", linewidth=5, linestyle=\"--\")\n",
    "plt.plot(dist, taxi_2, color=\"red\", linewidth=2, linestyle=\"-\")\n",
    "plt.show()\n"
   ]
  },
  {
   "cell_type": "code",
   "execution_count": null,
   "metadata": {},
   "outputs": [],
   "source": [
    "plt.subplot(2, 1, 1)\n",
    "plt.plot(dist, taxi_1, color=\"blue\", linewidth=5, linestyle=\"--\")\n",
    "plt.subplot(2, 1, 2)\n",
    "plt.plot(dist, taxi_2, color=\"red\", linewidth=2, linestyle=\"-\")\n",
    "plt.show()\n"
   ]
  },
  {
   "cell_type": "code",
   "execution_count": null,
   "metadata": {},
   "outputs": [],
   "source": [
    "plt.subplot(1, 2, 1)\n",
    "plt.plot(dist, taxi_1, color=\"blue\", linewidth=5, linestyle=\"--\")\n",
    "plt.subplot(1, 2, 2)\n",
    "plt.plot(dist, taxi_2, color=\"red\", linewidth=2, linestyle=\"-\")\n",
    "plt.show()\n"
   ]
  },
  {
   "cell_type": "code",
   "execution_count": null,
   "metadata": {},
   "outputs": [],
   "source": [
    "house_df = pd.read_csv('Data/house_df.txt')\n",
    "house_df"
   ]
  }
 ],
 "metadata": {
  "kernelspec": {
   "display_name": "Python 3",
   "language": "python",
   "name": "python3"
  },
  "language_info": {
   "codemirror_mode": {
    "name": "ipython",
    "version": 3
   },
   "file_extension": ".py",
   "mimetype": "text/x-python",
   "name": "python",
   "nbconvert_exporter": "python",
   "pygments_lexer": "ipython3",
   "version": "3.9.15"
  },
  "orig_nbformat": 4
 },
 "nbformat": 4,
 "nbformat_minor": 2
}
