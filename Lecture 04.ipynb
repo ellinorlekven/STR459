{
 "cells": [
  {
   "attachments": {},
   "cell_type": "markdown",
   "metadata": {},
   "source": [
    "## Exploratory data analysis (part 1)\n",
    "Supervised Learning"
   ]
  },
  {
   "cell_type": "code",
   "execution_count": 113,
   "metadata": {},
   "outputs": [],
   "source": [
    "import pandas as pd\n",
    "from bs4 import BeautifulSoup\n",
    "import numpy as np\n",
    "from sklearn.impute import SimpleImputer\n",
    "import matplotlib.pyplot as plt\n",
    "import requests\n",
    "import nltk\n",
    "from sklearn.feature_extraction.text import CountVectorizer\n",
    "from scipy import spatial"
   ]
  },
  {
   "cell_type": "code",
   "execution_count": 2,
   "metadata": {},
   "outputs": [],
   "source": [
    "df = pd.read_csv('Data/example_data1.csv')"
   ]
  },
  {
   "cell_type": "code",
   "execution_count": 3,
   "metadata": {},
   "outputs": [
    {
     "data": {
      "text/html": [
       "<div>\n",
       "<style scoped>\n",
       "    .dataframe tbody tr th:only-of-type {\n",
       "        vertical-align: middle;\n",
       "    }\n",
       "\n",
       "    .dataframe tbody tr th {\n",
       "        vertical-align: top;\n",
       "    }\n",
       "\n",
       "    .dataframe thead th {\n",
       "        text-align: right;\n",
       "    }\n",
       "</style>\n",
       "<table border=\"1\" class=\"dataframe\">\n",
       "  <thead>\n",
       "    <tr style=\"text-align: right;\">\n",
       "      <th></th>\n",
       "      <th>A</th>\n",
       "      <th>B</th>\n",
       "      <th>C</th>\n",
       "      <th>D</th>\n",
       "    </tr>\n",
       "  </thead>\n",
       "  <tbody>\n",
       "    <tr>\n",
       "      <th>0</th>\n",
       "      <td>False</td>\n",
       "      <td>False</td>\n",
       "      <td>False</td>\n",
       "      <td>False</td>\n",
       "    </tr>\n",
       "    <tr>\n",
       "      <th>1</th>\n",
       "      <td>False</td>\n",
       "      <td>False</td>\n",
       "      <td>True</td>\n",
       "      <td>False</td>\n",
       "    </tr>\n",
       "    <tr>\n",
       "      <th>2</th>\n",
       "      <td>False</td>\n",
       "      <td>False</td>\n",
       "      <td>False</td>\n",
       "      <td>True</td>\n",
       "    </tr>\n",
       "  </tbody>\n",
       "</table>\n",
       "</div>"
      ],
      "text/plain": [
       "       A      B      C      D\n",
       "0  False  False  False  False\n",
       "1  False  False   True  False\n",
       "2  False  False  False   True"
      ]
     },
     "execution_count": 3,
     "metadata": {},
     "output_type": "execute_result"
    }
   ],
   "source": [
    "df.isnull()"
   ]
  },
  {
   "cell_type": "code",
   "execution_count": 4,
   "metadata": {},
   "outputs": [
    {
     "data": {
      "text/plain": [
       "A    0\n",
       "B    0\n",
       "C    1\n",
       "D    1\n",
       "dtype: int64"
      ]
     },
     "execution_count": 4,
     "metadata": {},
     "output_type": "execute_result"
    }
   ],
   "source": [
    "df.isnull().sum()"
   ]
  },
  {
   "cell_type": "code",
   "execution_count": 5,
   "metadata": {},
   "outputs": [
    {
     "data": {
      "text/html": [
       "<div>\n",
       "<style scoped>\n",
       "    .dataframe tbody tr th:only-of-type {\n",
       "        vertical-align: middle;\n",
       "    }\n",
       "\n",
       "    .dataframe tbody tr th {\n",
       "        vertical-align: top;\n",
       "    }\n",
       "\n",
       "    .dataframe thead th {\n",
       "        text-align: right;\n",
       "    }\n",
       "</style>\n",
       "<table border=\"1\" class=\"dataframe\">\n",
       "  <thead>\n",
       "    <tr style=\"text-align: right;\">\n",
       "      <th></th>\n",
       "      <th>A</th>\n",
       "      <th>B</th>\n",
       "      <th>C</th>\n",
       "      <th>D</th>\n",
       "    </tr>\n",
       "  </thead>\n",
       "  <tbody>\n",
       "    <tr>\n",
       "      <th>0</th>\n",
       "      <td>1.0</td>\n",
       "      <td>2.0</td>\n",
       "      <td>3.0</td>\n",
       "      <td>4.0</td>\n",
       "    </tr>\n",
       "  </tbody>\n",
       "</table>\n",
       "</div>"
      ],
      "text/plain": [
       "     A    B    C    D\n",
       "0  1.0  2.0  3.0  4.0"
      ]
     },
     "execution_count": 5,
     "metadata": {},
     "output_type": "execute_result"
    }
   ],
   "source": [
    "# Eliminates rows with NA-values\n",
    "df.dropna(axis=0)"
   ]
  },
  {
   "cell_type": "code",
   "execution_count": 6,
   "metadata": {},
   "outputs": [
    {
     "data": {
      "text/html": [
       "<div>\n",
       "<style scoped>\n",
       "    .dataframe tbody tr th:only-of-type {\n",
       "        vertical-align: middle;\n",
       "    }\n",
       "\n",
       "    .dataframe tbody tr th {\n",
       "        vertical-align: top;\n",
       "    }\n",
       "\n",
       "    .dataframe thead th {\n",
       "        text-align: right;\n",
       "    }\n",
       "</style>\n",
       "<table border=\"1\" class=\"dataframe\">\n",
       "  <thead>\n",
       "    <tr style=\"text-align: right;\">\n",
       "      <th></th>\n",
       "      <th>A</th>\n",
       "      <th>B</th>\n",
       "    </tr>\n",
       "  </thead>\n",
       "  <tbody>\n",
       "    <tr>\n",
       "      <th>0</th>\n",
       "      <td>1.0</td>\n",
       "      <td>2.0</td>\n",
       "    </tr>\n",
       "    <tr>\n",
       "      <th>1</th>\n",
       "      <td>5.0</td>\n",
       "      <td>6.0</td>\n",
       "    </tr>\n",
       "    <tr>\n",
       "      <th>2</th>\n",
       "      <td>0.0</td>\n",
       "      <td>11.0</td>\n",
       "    </tr>\n",
       "  </tbody>\n",
       "</table>\n",
       "</div>"
      ],
      "text/plain": [
       "     A     B\n",
       "0  1.0   2.0\n",
       "1  5.0   6.0\n",
       "2  0.0  11.0"
      ]
     },
     "execution_count": 6,
     "metadata": {},
     "output_type": "execute_result"
    }
   ],
   "source": [
    "# Eliminates coulmns with NA-values\n",
    "df.dropna(axis=1)"
   ]
  },
  {
   "cell_type": "code",
   "execution_count": 7,
   "metadata": {},
   "outputs": [
    {
     "data": {
      "text/html": [
       "<div>\n",
       "<style scoped>\n",
       "    .dataframe tbody tr th:only-of-type {\n",
       "        vertical-align: middle;\n",
       "    }\n",
       "\n",
       "    .dataframe tbody tr th {\n",
       "        vertical-align: top;\n",
       "    }\n",
       "\n",
       "    .dataframe thead th {\n",
       "        text-align: right;\n",
       "    }\n",
       "</style>\n",
       "<table border=\"1\" class=\"dataframe\">\n",
       "  <thead>\n",
       "    <tr style=\"text-align: right;\">\n",
       "      <th></th>\n",
       "      <th>A</th>\n",
       "      <th>B</th>\n",
       "      <th>C</th>\n",
       "      <th>D</th>\n",
       "    </tr>\n",
       "  </thead>\n",
       "  <tbody>\n",
       "    <tr>\n",
       "      <th>0</th>\n",
       "      <td>1.0</td>\n",
       "      <td>2.0</td>\n",
       "      <td>3.0</td>\n",
       "      <td>4.0</td>\n",
       "    </tr>\n",
       "    <tr>\n",
       "      <th>1</th>\n",
       "      <td>5.0</td>\n",
       "      <td>6.0</td>\n",
       "      <td>NaN</td>\n",
       "      <td>8.0</td>\n",
       "    </tr>\n",
       "    <tr>\n",
       "      <th>2</th>\n",
       "      <td>0.0</td>\n",
       "      <td>11.0</td>\n",
       "      <td>12.0</td>\n",
       "      <td>NaN</td>\n",
       "    </tr>\n",
       "  </tbody>\n",
       "</table>\n",
       "</div>"
      ],
      "text/plain": [
       "     A     B     C    D\n",
       "0  1.0   2.0   3.0  4.0\n",
       "1  5.0   6.0   NaN  8.0\n",
       "2  0.0  11.0  12.0  NaN"
      ]
     },
     "execution_count": 7,
     "metadata": {},
     "output_type": "execute_result"
    }
   ],
   "source": [
    "# drops the rows where all of its values are NaN\n",
    "df.dropna(how='all')"
   ]
  },
  {
   "cell_type": "code",
   "execution_count": 8,
   "metadata": {},
   "outputs": [
    {
     "data": {
      "text/html": [
       "<div>\n",
       "<style scoped>\n",
       "    .dataframe tbody tr th:only-of-type {\n",
       "        vertical-align: middle;\n",
       "    }\n",
       "\n",
       "    .dataframe tbody tr th {\n",
       "        vertical-align: top;\n",
       "    }\n",
       "\n",
       "    .dataframe thead th {\n",
       "        text-align: right;\n",
       "    }\n",
       "</style>\n",
       "<table border=\"1\" class=\"dataframe\">\n",
       "  <thead>\n",
       "    <tr style=\"text-align: right;\">\n",
       "      <th></th>\n",
       "      <th>A</th>\n",
       "      <th>B</th>\n",
       "      <th>C</th>\n",
       "      <th>D</th>\n",
       "    </tr>\n",
       "  </thead>\n",
       "  <tbody>\n",
       "    <tr>\n",
       "      <th>0</th>\n",
       "      <td>1.0</td>\n",
       "      <td>2.0</td>\n",
       "      <td>3.0</td>\n",
       "      <td>4.0</td>\n",
       "    </tr>\n",
       "    <tr>\n",
       "      <th>1</th>\n",
       "      <td>5.0</td>\n",
       "      <td>6.0</td>\n",
       "      <td>NaN</td>\n",
       "      <td>8.0</td>\n",
       "    </tr>\n",
       "  </tbody>\n",
       "</table>\n",
       "</div>"
      ],
      "text/plain": [
       "     A    B    C    D\n",
       "0  1.0  2.0  3.0  4.0\n",
       "1  5.0  6.0  NaN  8.0"
      ]
     },
     "execution_count": 8,
     "metadata": {},
     "output_type": "execute_result"
    }
   ],
   "source": [
    "# it only drops the rows where NaN appear in the column ‘D’\n",
    "\n",
    "df.dropna(subset=['D'])"
   ]
  },
  {
   "cell_type": "code",
   "execution_count": 9,
   "metadata": {},
   "outputs": [
    {
     "data": {
      "text/plain": [
       "array(['two', 'four', nan], dtype=object)"
      ]
     },
     "execution_count": 9,
     "metadata": {},
     "output_type": "execute_result"
    }
   ],
   "source": [
    "df_car = pd.read_csv('Data/car_data.csv')\n",
    "df_car['num-of-doors'].unique()\n",
    "\n"
   ]
  },
  {
   "cell_type": "code",
   "execution_count": 10,
   "metadata": {},
   "outputs": [
    {
     "data": {
      "text/plain": [
       "array([130, 152, 109, 136, 131, 108, 164, 209,  61,  90,  98, 122, 156,\n",
       "        92,  79, 110, 111, 119, 258, 326,  91,  70,  80, 140, 134, 183,\n",
       "       234, 308, 304,  97, 103, 120, 181, 151, 194, 203, 132, 121, 146,\n",
       "       171, 161, 141, 173, 145], dtype=int64)"
      ]
     },
     "execution_count": 10,
     "metadata": {},
     "output_type": "execute_result"
    }
   ],
   "source": [
    "mean = df_car['engine-size'].mean()\n",
    "df_car = df_car.replace('?',mean)\n",
    "df_car['engine-size'].unique()"
   ]
  },
  {
   "cell_type": "markdown",
   "metadata": {},
   "source": [
    "### SimpleImputer"
   ]
  },
  {
   "cell_type": "code",
   "execution_count": 11,
   "metadata": {},
   "outputs": [
    {
     "name": "stderr",
     "output_type": "stream",
     "text": [
      "c:\\Users\\ellins\\AppData\\Local\\Programs\\Python\\Python311\\Lib\\site-packages\\sklearn\\base.py:439: UserWarning: X does not have valid feature names, but SimpleImputer was fitted with feature names\n",
      "  warnings.warn(\n"
     ]
    },
    {
     "data": {
      "text/plain": [
       "array([[ 1. ,  2. ,  3. ,  4. ],\n",
       "       [ 5. ,  6. ,  7.5,  8. ],\n",
       "       [ 0. , 11. , 12. ,  6. ]])"
      ]
     },
     "execution_count": 11,
     "metadata": {},
     "output_type": "execute_result"
    }
   ],
   "source": [
    "# Replacing NaN with imputer\n",
    "\n",
    "my_miss = np.NaN\n",
    "my_stra = 'mean'\n",
    "\n",
    "imputer = SimpleImputer(missing_values=my_miss, strategy=my_stra)\n",
    "\n",
    "imputer = imputer.fit(df)\n",
    "imputed_data = imputer.transform(df.values)\n",
    "imputed_data\n"
   ]
  },
  {
   "cell_type": "code",
   "execution_count": 12,
   "metadata": {},
   "outputs": [
    {
     "name": "stderr",
     "output_type": "stream",
     "text": [
      "c:\\Users\\ellins\\AppData\\Local\\Programs\\Python\\Python311\\Lib\\site-packages\\sklearn\\base.py:439: UserWarning: X does not have valid feature names, but SimpleImputer was fitted with feature names\n",
      "  warnings.warn(\n"
     ]
    },
    {
     "data": {
      "text/plain": [
       "array([[ 1.,  2.,  3.,  4.],\n",
       "       [ 5.,  6.,  3.,  8.],\n",
       "       [ 0., 11., 12.,  4.]])"
      ]
     },
     "execution_count": 12,
     "metadata": {},
     "output_type": "execute_result"
    }
   ],
   "source": [
    "imputer = SimpleImputer(missing_values=np.NaN, strategy='most_frequent')\n",
    "\n",
    "imputer = imputer.fit(df)\n",
    "imputed_data = imputer.transform(df.values)\n",
    "imputed_data\n"
   ]
  },
  {
   "cell_type": "code",
   "execution_count": 13,
   "metadata": {},
   "outputs": [
    {
     "data": {
      "text/html": [
       "<div>\n",
       "<style scoped>\n",
       "    .dataframe tbody tr th:only-of-type {\n",
       "        vertical-align: middle;\n",
       "    }\n",
       "\n",
       "    .dataframe tbody tr th {\n",
       "        vertical-align: top;\n",
       "    }\n",
       "\n",
       "    .dataframe thead th {\n",
       "        text-align: right;\n",
       "    }\n",
       "</style>\n",
       "<table border=\"1\" class=\"dataframe\">\n",
       "  <thead>\n",
       "    <tr style=\"text-align: right;\">\n",
       "      <th></th>\n",
       "      <th>symboling</th>\n",
       "      <th>normalized-losses</th>\n",
       "      <th>make</th>\n",
       "      <th>fuel-type</th>\n",
       "      <th>aspiration</th>\n",
       "      <th>num-of-doors</th>\n",
       "      <th>body-style</th>\n",
       "      <th>drive-wheels</th>\n",
       "      <th>engine-location</th>\n",
       "      <th>wheel-base</th>\n",
       "      <th>...</th>\n",
       "      <th>engine-size</th>\n",
       "      <th>fuel-system</th>\n",
       "      <th>bore</th>\n",
       "      <th>stroke</th>\n",
       "      <th>compression-ratio</th>\n",
       "      <th>horsepower</th>\n",
       "      <th>peak-rpm</th>\n",
       "      <th>city-mpg</th>\n",
       "      <th>highway-mpg</th>\n",
       "      <th>price</th>\n",
       "    </tr>\n",
       "  </thead>\n",
       "  <tbody>\n",
       "    <tr>\n",
       "      <th>0</th>\n",
       "      <td>3</td>\n",
       "      <td>NaN</td>\n",
       "      <td>alfa-romero</td>\n",
       "      <td>gas</td>\n",
       "      <td>std</td>\n",
       "      <td>two</td>\n",
       "      <td>convertible</td>\n",
       "      <td>rwd</td>\n",
       "      <td>front</td>\n",
       "      <td>88.6</td>\n",
       "      <td>...</td>\n",
       "      <td>130</td>\n",
       "      <td>mpfi</td>\n",
       "      <td>3.47</td>\n",
       "      <td>2.68</td>\n",
       "      <td>9.0</td>\n",
       "      <td>111.0</td>\n",
       "      <td>5000.0</td>\n",
       "      <td>21</td>\n",
       "      <td>27</td>\n",
       "      <td>16500.0</td>\n",
       "    </tr>\n",
       "    <tr>\n",
       "      <th>1</th>\n",
       "      <td>1</td>\n",
       "      <td>NaN</td>\n",
       "      <td>alfa-romero</td>\n",
       "      <td>gas</td>\n",
       "      <td>std</td>\n",
       "      <td>two</td>\n",
       "      <td>hatchback</td>\n",
       "      <td>rwd</td>\n",
       "      <td>front</td>\n",
       "      <td>94.5</td>\n",
       "      <td>...</td>\n",
       "      <td>152</td>\n",
       "      <td>mpfi</td>\n",
       "      <td>2.68</td>\n",
       "      <td>3.47</td>\n",
       "      <td>9.0</td>\n",
       "      <td>154.0</td>\n",
       "      <td>5000.0</td>\n",
       "      <td>19</td>\n",
       "      <td>26</td>\n",
       "      <td>16500.0</td>\n",
       "    </tr>\n",
       "    <tr>\n",
       "      <th>2</th>\n",
       "      <td>2</td>\n",
       "      <td>164.0</td>\n",
       "      <td>audi</td>\n",
       "      <td>gas</td>\n",
       "      <td>std</td>\n",
       "      <td>four</td>\n",
       "      <td>sedan</td>\n",
       "      <td>fwd</td>\n",
       "      <td>front</td>\n",
       "      <td>99.8</td>\n",
       "      <td>...</td>\n",
       "      <td>109</td>\n",
       "      <td>mpfi</td>\n",
       "      <td>3.19</td>\n",
       "      <td>3.40</td>\n",
       "      <td>10.0</td>\n",
       "      <td>102.0</td>\n",
       "      <td>5500.0</td>\n",
       "      <td>24</td>\n",
       "      <td>30</td>\n",
       "      <td>13950.0</td>\n",
       "    </tr>\n",
       "  </tbody>\n",
       "</table>\n",
       "<p>3 rows × 26 columns</p>\n",
       "</div>"
      ],
      "text/plain": [
       "   symboling  normalized-losses         make fuel-type aspiration  \\\n",
       "0          3                NaN  alfa-romero       gas        std   \n",
       "1          1                NaN  alfa-romero       gas        std   \n",
       "2          2              164.0         audi       gas        std   \n",
       "\n",
       "  num-of-doors   body-style drive-wheels engine-location  wheel-base  ...  \\\n",
       "0          two  convertible          rwd           front        88.6  ...   \n",
       "1          two    hatchback          rwd           front        94.5  ...   \n",
       "2         four        sedan          fwd           front        99.8  ...   \n",
       "\n",
       "   engine-size  fuel-system  bore  stroke compression-ratio horsepower  \\\n",
       "0          130         mpfi  3.47    2.68               9.0      111.0   \n",
       "1          152         mpfi  2.68    3.47               9.0      154.0   \n",
       "2          109         mpfi  3.19    3.40              10.0      102.0   \n",
       "\n",
       "   peak-rpm city-mpg  highway-mpg    price  \n",
       "0    5000.0       21           27  16500.0  \n",
       "1    5000.0       19           26  16500.0  \n",
       "2    5500.0       24           30  13950.0  \n",
       "\n",
       "[3 rows x 26 columns]"
      ]
     },
     "execution_count": 13,
     "metadata": {},
     "output_type": "execute_result"
    }
   ],
   "source": [
    "df_car.head(3)"
   ]
  },
  {
   "cell_type": "code",
   "execution_count": 14,
   "metadata": {},
   "outputs": [
    {
     "data": {
      "text/plain": [
       "array([[<Axes: title={'center': 'symboling'}>,\n",
       "        <Axes: title={'center': 'normalized-losses'}>,\n",
       "        <Axes: title={'center': 'wheel-base'}>,\n",
       "        <Axes: title={'center': 'length'}>],\n",
       "       [<Axes: title={'center': 'width'}>,\n",
       "        <Axes: title={'center': 'height'}>,\n",
       "        <Axes: title={'center': 'curb-weight'}>,\n",
       "        <Axes: title={'center': 'engine-size'}>],\n",
       "       [<Axes: title={'center': 'bore'}>,\n",
       "        <Axes: title={'center': 'stroke'}>,\n",
       "        <Axes: title={'center': 'compression-ratio'}>,\n",
       "        <Axes: title={'center': 'horsepower'}>],\n",
       "       [<Axes: title={'center': 'peak-rpm'}>,\n",
       "        <Axes: title={'center': 'city-mpg'}>,\n",
       "        <Axes: title={'center': 'highway-mpg'}>,\n",
       "        <Axes: title={'center': 'price'}>]], dtype=object)"
      ]
     },
     "execution_count": 14,
     "metadata": {},
     "output_type": "execute_result"
    },
    {
     "data": {
      "image/png": "[encoded data removed]",
      "text/plain": [
       "<Figure size 1000x1000 with 16 Axes>"
      ]
     },
     "metadata": {},
     "output_type": "display_data"
    }
   ],
   "source": [
    "df_car.hist(figsize=(10,10))"
   ]
  },
  {
   "cell_type": "code",
   "execution_count": 15,
   "metadata": {},
   "outputs": [
    {
     "data": {
      "text/plain": [
       "symboling             0\n",
       "normalized-losses    40\n",
       "make                  0\n",
       "fuel-type             0\n",
       "aspiration            0\n",
       "num-of-doors          2\n",
       "body-style            0\n",
       "drive-wheels          0\n",
       "engine-location       0\n",
       "wheel-base            0\n",
       "length                0\n",
       "width                 0\n",
       "height                0\n",
       "curb-weight           0\n",
       "engine-type           0\n",
       "num-of-cylinders      0\n",
       "engine-size           0\n",
       "fuel-system           0\n",
       "bore                  4\n",
       "stroke                4\n",
       "compression-ratio     0\n",
       "horsepower            2\n",
       "peak-rpm              2\n",
       "city-mpg              0\n",
       "highway-mpg           0\n",
       "price                 4\n",
       "dtype: int64"
      ]
     },
     "execution_count": 15,
     "metadata": {},
     "output_type": "execute_result"
    }
   ],
   "source": [
    "# Which roww has most missing values?\n",
    "df_car.isna().sum()"
   ]
  },
  {
   "cell_type": "code",
   "execution_count": 16,
   "metadata": {},
   "outputs": [],
   "source": [
    "\n",
    "mean_before=df_car.loc[:,'normalized-losses'].mean()\n",
    "std_before=df_car.loc[:,'normalized-losses'].std()"
   ]
  },
  {
   "cell_type": "code",
   "execution_count": 17,
   "metadata": {},
   "outputs": [],
   "source": [
    "\n",
    "df_car=df_car.replace(np.NAN,mean_before)\n",
    "mean_after=df_car.loc[:,\"normalized-losses\"].mean()\n",
    "std_after=df_car.loc[:,\"normalized-losses\"].std()"
   ]
  },
  {
   "cell_type": "code",
   "execution_count": 18,
   "metadata": {},
   "outputs": [
    {
     "name": "stdout",
     "output_type": "stream",
     "text": [
      "mean before: 122.0 ---> mean_after: 122.0\n",
      "std before: 35.442167530553256 ---> std_after: 31.75894428144489\n"
     ]
    }
   ],
   "source": [
    "\n",
    "print('mean before:',mean_before,'--->', \\\n",
    "'mean_after:',mean_after)\n",
    "\n",
    "print('std before:',std_before,'--->', \\\n",
    "'std_after:',std_after)"
   ]
  },
  {
   "cell_type": "code",
   "execution_count": 19,
   "metadata": {},
   "outputs": [],
   "source": [
    "data = {\"house age [y]\": [10,15,20,25,30,35,40], \n",
    "        \"city 1 [m]\": [1,0.5,0.3,0.2,0.1,0.09,0.08],\n",
    "        \"city 2 [m]\": [35, 30, 25, 20, 15, 10,  5],\n",
    "        \"city 3 [m]\": [10 ,9.9, 9.8, 9.6, 9.3, 9.1, 9.05],\n",
    "        \"city 4 [m]\": [15 ,14.9, 14.8, 14.6, 14.3, 14.1, 14]}\n",
    "\n",
    "house_df = pd.DataFrame(data)"
   ]
  },
  {
   "cell_type": "code",
   "execution_count": 20,
   "metadata": {},
   "outputs": [
    {
     "data": {
      "image/png": "[encoded data removed]",
      "text/plain": [
       "<Figure size 640x480 with 1 Axes>"
      ]
     },
     "metadata": {},
     "output_type": "display_data"
    }
   ],
   "source": [
    "width = 4\n",
    "plt.bar(house_df.iloc[:,0], house_df.iloc[:,1], width)\n",
    "plt.xlabel('house age [y]')\n",
    "plt.ylabel('city 1 [m]')\n",
    "plt.title('House cost')\n",
    "plt.show()"
   ]
  },
  {
   "cell_type": "code",
   "execution_count": 21,
   "metadata": {},
   "outputs": [
    {
     "data": {
      "text/plain": [
       "<Axes: >"
      ]
     },
     "execution_count": 21,
     "metadata": {},
     "output_type": "execute_result"
    },
    {
     "data": {
      "image/png": "[encoded data removed]",
      "text/plain": [
       "<Figure size 640x480 with 1 Axes>"
      ]
     },
     "metadata": {},
     "output_type": "display_data"
    }
   ],
   "source": [
    "house_df.loc[:,'city 1 [m]':'city 4 [m]'].plot(kind='bar')\n"
   ]
  },
  {
   "cell_type": "code",
   "execution_count": 22,
   "metadata": {},
   "outputs": [
    {
     "data": {
      "text/plain": [
       "<Axes: >"
      ]
     },
     "execution_count": 22,
     "metadata": {},
     "output_type": "execute_result"
    },
    {
     "data": {
      "image/png": "[encoded data removed]",
      "text/plain": [
       "<Figure size 640x480 with 1 Axes>"
      ]
     },
     "metadata": {},
     "output_type": "display_data"
    }
   ],
   "source": [
    "mu = 0 \n",
    "sigma = 1\n",
    "rand_data = np.random.normal(mu, sigma, size=1000)\n",
    "df_rand = pd.DataFrame({'rand1':rand_data})\n",
    "df_rand.boxplot()"
   ]
  },
  {
   "cell_type": "code",
   "execution_count": 23,
   "metadata": {},
   "outputs": [
    {
     "data": {
      "text/plain": [
       "array([[<Axes: title={'center': 'price'}>,\n",
       "        <Axes: title={'center': 'peak-rpm'}>]], dtype=object)"
      ]
     },
     "execution_count": 23,
     "metadata": {},
     "output_type": "execute_result"
    },
    {
     "data": {
      "image/png": "[encoded data removed]",
      "text/plain": [
       "<Figure size 640x480 with 1 Axes>"
      ]
     },
     "metadata": {},
     "output_type": "display_data"
    },
    {
     "data": {
      "image/png": "[encoded data removed]",
      "text/plain": [
       "<Figure size 640x480 with 2 Axes>"
      ]
     },
     "metadata": {},
     "output_type": "display_data"
    }
   ],
   "source": [
    "df_car.boxplot(column=['peak-rpm','price'])\n",
    "df_car.hist(column=['price','peak-rpm'])"
   ]
  },
  {
   "cell_type": "code",
   "execution_count": 24,
   "metadata": {},
   "outputs": [],
   "source": [
    "# Reading files \n",
    "# file = open(“filename”, “mode”)\n",
    "# file.read()\n",
    "# file.close()\n",
    "\n",
    "# ‘r’ – read mode\n",
    "# ‘w’ – write mode\n",
    "# ‘a’ – append mode\n",
    "# ‘r+’ – special read and write mode\n"
   ]
  },
  {
   "cell_type": "code",
   "execution_count": 25,
   "metadata": {},
   "outputs": [],
   "source": [
    "# Reading files \n",
    "with open('house_df.txt') as file:\n",
    "    data = file.read()"
   ]
  },
  {
   "cell_type": "code",
   "execution_count": 26,
   "metadata": {},
   "outputs": [],
   "source": [
    "# Wrtiting files\n",
    "file = open(\"house_df.txt\", \"w\") \n",
    "file.write('Hello World!')\n",
    "file.close()\n"
   ]
  },
  {
   "cell_type": "code",
   "execution_count": 27,
   "metadata": {},
   "outputs": [],
   "source": [
    "def read_write_75char(name):\n",
    "    file1 = open(name, 'r')\n",
    "    html_content = file1.read()\n",
    "    file1.close()\n",
    "    file2 = open('html_to_text.txt', 'w')\n",
    "    file2.write(html_content[:75])\n",
    "    file2.close()\n"
   ]
  },
  {
   "cell_type": "code",
   "execution_count": 28,
   "metadata": {},
   "outputs": [],
   "source": [
    "# Testing function \n",
    "read_write_75char('Data/ParseMe.html')"
   ]
  },
  {
   "cell_type": "markdown",
   "metadata": {},
   "source": [
    "### Response"
   ]
  },
  {
   "cell_type": "code",
   "execution_count": 29,
   "metadata": {},
   "outputs": [],
   "source": [
    "response = requests.get('https://api.github.com/user')"
   ]
  },
  {
   "cell_type": "code",
   "execution_count": 30,
   "metadata": {},
   "outputs": [
    {
     "data": {
      "text/plain": [
       "401"
      ]
     },
     "execution_count": 30,
     "metadata": {},
     "output_type": "execute_result"
    }
   ],
   "source": [
    "response.status_code"
   ]
  },
  {
   "cell_type": "code",
   "execution_count": 31,
   "metadata": {},
   "outputs": [
    {
     "data": {
      "text/plain": [
       "'application/json; charset=utf-8'"
      ]
     },
     "execution_count": 31,
     "metadata": {},
     "output_type": "execute_result"
    }
   ],
   "source": [
    "response.headers['content-type']"
   ]
  },
  {
   "cell_type": "code",
   "execution_count": 32,
   "metadata": {},
   "outputs": [
    {
     "data": {
      "text/plain": [
       "'utf-8'"
      ]
     },
     "execution_count": 32,
     "metadata": {},
     "output_type": "execute_result"
    }
   ],
   "source": [
    "response.encoding"
   ]
  },
  {
   "cell_type": "code",
   "execution_count": 33,
   "metadata": {},
   "outputs": [
    {
     "data": {
      "text/plain": [
       "'{\"message\":\"Requires authentication\",\"documentation_url\":\"https://docs.github.com/rest/reference/users#get-the-authenticated-user\"}'"
      ]
     },
     "execution_count": 33,
     "metadata": {},
     "output_type": "execute_result"
    }
   ],
   "source": [
    "response.text"
   ]
  },
  {
   "cell_type": "code",
   "execution_count": 34,
   "metadata": {},
   "outputs": [
    {
     "name": "stdout",
     "output_type": "stream",
     "text": [
      "\n",
      "\n",
      "\n",
      "\n",
      "\n",
      "\n",
      "\n",
      "\n",
      "\n",
      "\n",
      "<!DOCTYPE html>\n",
      "<html\n",
      "    xmlns:og=\"http://ogp.me/ns#\"\n",
      "    xmlns:fb=\"http://www.facebook.com/2008/fbml\">\n",
      "    <head>\n",
      "    \n"
     ]
    }
   ],
   "source": [
    "url = 'https://www.imdb.com/title/tt0052357/reviews'\n",
    "response = requests.get(url=url)\n",
    "print(response.text[0:130])"
   ]
  },
  {
   "cell_type": "markdown",
   "metadata": {},
   "source": [
    "### BeautifulSoup"
   ]
  },
  {
   "cell_type": "code",
   "execution_count": 35,
   "metadata": {},
   "outputs": [],
   "source": [
    "html_soup = BeautifulSoup(response.text, 'html.parser')"
   ]
  },
  {
   "cell_type": "code",
   "execution_count": 36,
   "metadata": {},
   "outputs": [
    {
     "name": "stdout",
     "output_type": "stream",
     "text": [
      "<class 'bs4.element.ResultSet'>\n",
      "25\n"
     ]
    }
   ],
   "source": [
    "movie_containers = html_soup.find_all('div', class_ = 'text show-more__control')\n",
    "print(type(movie_containers))\n",
    "print(len(movie_containers))"
   ]
  },
  {
   "cell_type": "code",
   "execution_count": 37,
   "metadata": {},
   "outputs": [
    {
     "data": {
      "text/plain": [
       "<div class=\"text show-more__control\">One of the many things that made Hitchcock such a great director is that he did not just stick to the same formula time after time; all of his best movies have their own unique feel and characteristics.  \"Vertigo\" is particularly distinctive, both as a complex story filled with suspense, and as a fascinating study in psychological tension.  While it lacks the humor of some of Hitchcock's other masterpieces, and sometimes moves rather slowly, it is unforgettable, and a great achievement by the director and his cast.<br/><br/>If you have never seen it, you will enjoy it more if you do not know too much about the plot, although the actual story is somewhat secondary to the ways that the characters are tested and their weaknesses exposed by the various events.  Hitchcock uses a complicated story, interesting characters, lavish visual detail, and deliberate pacing, plus a fine musical score by the incomparable Bernard Hermann, to produce a mysterious, almost unearthly, atmosphere.  The tension rarely lets up, and the viewer is caught up completely in it, at times almost to the point of discomfort.  It's the kind of film that repays careful attention, as almost every moment is filled with significant detail.<br/><br/>There are also some great acting performances.  Jimmy Stewart is outstanding in a role far different from his usual screen persona.  He enables the viewer to sympathize completely with him, even as we cringe at many of his character's actions and decisions.  Kim Novak is completely convincing in a difficult dual role, and the movie would not have been as compelling without her fine performance.  The rest of the cast all have much smaller roles, but are all quite good too, especially Barbara Bel Geddes as Scottie's (Stewart's) old friend, who provides important insight into Scottie's character.<br/><br/>\"Vertigo\" is a classic by any standard.  It's a must-see that remains just as impressive with each viewing.</div>"
      ]
     },
     "execution_count": 37,
     "metadata": {},
     "output_type": "execute_result"
    }
   ],
   "source": [
    "movie_containers[0]"
   ]
  },
  {
   "cell_type": "code",
   "execution_count": 38,
   "metadata": {},
   "outputs": [],
   "source": [
    "file = open('Data/ParseMe.html', 'r')\n",
    "html_doc = file.read()\n",
    "file.close()"
   ]
  },
  {
   "cell_type": "code",
   "execution_count": 39,
   "metadata": {},
   "outputs": [
    {
     "name": "stdout",
     "output_type": "stream",
     "text": [
      "https://en.wikipedia.org/wiki/List_of_universities_in_Italy\n",
      "http://unibz.it\n",
      "http://polimi.it\n",
      "http://www.unitn.it\n"
     ]
    }
   ],
   "source": [
    "def parse_links(html_document=html_doc):\n",
    "    html_soup = BeautifulSoup(html_document, 'html.parser')\n",
    "    for link in html_soup.find_all('a'):\n",
    "        print(link.get('href'))\n",
    "\n",
    "# Not filling the function with any parameter because it is already defined\n",
    "parse_links()"
   ]
  },
  {
   "cell_type": "markdown",
   "metadata": {},
   "source": [
    "### Writing a Tokenizer"
   ]
  },
  {
   "cell_type": "code",
   "execution_count": 40,
   "metadata": {},
   "outputs": [
    {
     "data": {
      "text/html": [
       "<div>\n",
       "<style scoped>\n",
       "    .dataframe tbody tr th:only-of-type {\n",
       "        vertical-align: middle;\n",
       "    }\n",
       "\n",
       "    .dataframe tbody tr th {\n",
       "        vertical-align: top;\n",
       "    }\n",
       "\n",
       "    .dataframe thead th {\n",
       "        text-align: right;\n",
       "    }\n",
       "</style>\n",
       "<table border=\"1\" class=\"dataframe\">\n",
       "  <thead>\n",
       "    <tr style=\"text-align: right;\">\n",
       "      <th></th>\n",
       "      <th>review</th>\n",
       "      <th>sentiment</th>\n",
       "    </tr>\n",
       "  </thead>\n",
       "  <tbody>\n",
       "    <tr>\n",
       "      <th>0</th>\n",
       "      <td>Based on an actual story, John Boorman shows t...</td>\n",
       "      <td>1</td>\n",
       "    </tr>\n",
       "    <tr>\n",
       "      <th>1</th>\n",
       "      <td>This is a gem. As a Film Four production - the...</td>\n",
       "      <td>1</td>\n",
       "    </tr>\n",
       "    <tr>\n",
       "      <th>2</th>\n",
       "      <td>I really like this show. It has drama, romance...</td>\n",
       "      <td>1</td>\n",
       "    </tr>\n",
       "  </tbody>\n",
       "</table>\n",
       "</div>"
      ],
      "text/plain": [
       "                                              review  sentiment\n",
       "0  Based on an actual story, John Boorman shows t...          1\n",
       "1  This is a gem. As a Film Four production - the...          1\n",
       "2  I really like this show. It has drama, romance...          1"
      ]
     },
     "execution_count": 40,
     "metadata": {},
     "output_type": "execute_result"
    }
   ],
   "source": [
    "df_movie = pd.read_csv('Data/movie_dataset.csv')\n",
    "df_movie.head(3)"
   ]
  },
  {
   "cell_type": "code",
   "execution_count": 41,
   "metadata": {},
   "outputs": [],
   "source": [
    "def basic_tokenizer(text):\n",
    "    return text.split()\n",
    "\n",
    "review1 = df_movie.loc[0, 'review']\n",
    "review2 = df_movie.loc[1, 'review']\n",
    "review3 = df_movie.loc[2, 'review']"
   ]
  },
  {
   "cell_type": "code",
   "execution_count": 42,
   "metadata": {},
   "outputs": [
    {
     "name": "stdout",
     "output_type": "stream",
     "text": [
      "['Based', 'on', 'an', 'actual', 'story,', 'John', 'Boorman', 'shows', 'the', 'struggle', 'of', 'an', 'American', 'doctor,', 'whose', 'husband', 'and', 'son', 'were', 'murdered', 'and', 'she', 'was', 'continually', 'plagued', 'with', 'her', 'loss.', 'A', 'holiday', 'to', 'Burma', 'with', 'her', 'sister', 'seemed', 'like', 'a', 'good', 'idea', 'to', 'get', 'away', 'from', 'it', 'all,', 'but', 'when', 'her', 'passport', 'was', 'stolen', 'in', 'Rangoon,', 'she', 'could', 'not', 'leave', 'the', 'country', 'with', 'her', 'sister,', 'and', 'was', 'forced', 'to', 'stay', 'back', 'until', 'she', 'could', 'get', 'I.D.', 'papers', 'from', 'the', 'American', 'embassy.', 'To', 'fill', 'in', 'a', 'day', 'before', 'she', 'could', 'fly', 'out,', 'she', 'took', 'a', 'trip', 'into', 'the', 'countryside', 'with', 'a', 'tour', 'guide.', '\"I', 'tried', 'finding', 'something', 'in', 'those', 'stone', 'statues,', 'but', 'nothing', 'stirred', 'in', 'me.', 'I', 'was', 'stone', 'myself.\"', '<br', '/><br', '/>Suddenly', 'all', 'hell', 'broke', 'loose', 'and', 'she', 'was', 'caught', 'in', 'a', 'political', 'revolt.', 'Just', 'when', 'it', 'looked', 'like', 'she', 'had', 'escaped', 'and', 'safely', 'boarded', 'a', 'train,', 'she', 'saw', 'her', 'tour', 'guide', 'get', 'beaten', 'and', 'shot.', 'In', 'a', 'split', 'second', 'she', 'decided', 'to', 'jump', 'from', 'the', 'moving', 'train', 'and', 'try', 'to', 'rescue', 'him,', 'with', 'no', 'thought', 'of', 'herself.', 'Continually', 'her', 'life', 'was', 'in', 'danger.', '<br', '/><br', '/>Here', 'is', 'a', 'woman', 'who', 'demonstrated', 'spontaneous,', 'selfless', 'charity,', 'risking', 'her', 'life', 'to', 'save', 'another.', 'Patricia', 'Arquette', 'is', 'beautiful,', 'and', 'not', 'just', 'to', 'look', 'at;', 'she', 'has', 'a', 'beautiful', 'heart.', 'This', 'is', 'an', 'unforgettable', 'story.', '<br', '/><br', '/>\"We', 'are', 'taught', 'that', 'suffering', 'is', 'the', 'one', 'promise', 'that', 'life', 'always', 'keeps.\"']\n",
      "['This', 'is', 'a', 'gem.', 'As', 'a', 'Film', 'Four', 'production', '-', 'the', 'anticipated', 'quality', 'was', 'indeed', 'delivered.', 'Shot', 'with', 'great', 'style', 'that', 'reminded', 'me', 'some', 'Errol', 'Morris', 'films,', 'well', 'arranged', 'and', 'simply', 'gripping.', \"It's\", 'long', 'yet', 'horrifying', 'to', 'the', 'point', \"it's\", 'excruciating.', 'We', 'know', 'something', 'bad', 'happened', '(one', 'can', 'guess', 'by', 'the', 'lack', 'of', 'participation', 'of', 'a', 'person', 'in', 'the', 'interviews)', 'but', 'we', 'are', 'compelled', 'to', 'see', 'it,', 'a', 'bit', 'like', 'a', 'car', 'accident', 'in', 'slow', 'motion.', 'The', 'story', 'spans', 'most', 'conceivable', 'aspects', 'and', 'unlike', 'some', 'documentaries', 'did', 'not', 'try', 'and', 'refrain', 'from', 'showing', 'the', 'grimmer', 'sides', 'of', 'the', 'stories,', 'as', 'also', 'dealing', 'with', 'the', 'guilt', 'of', 'the', 'people', 'Don', 'left', 'behind', 'him,', 'wondering', 'why', 'they', \"didn't\", 'stop', 'him', 'in', 'time.', 'It', 'took', 'me', 'a', 'few', 'hours', 'to', 'get', 'out', 'of', 'the', 'melancholy', 'that', 'gripped', 'me', 'after', 'seeing', 'this', 'very-well', 'made', 'documentary.']\n",
      "['I', 'really', 'like', 'this', 'show.', 'It', 'has', 'drama,', 'romance,', 'and', 'comedy', 'all', 'rolled', 'into', 'one.', 'I', 'am', '28', 'and', 'I', 'am', 'a', 'married', 'mother,', 'so', 'I', 'can', 'identify', 'both', 'with', \"Lorelei's\", 'and', \"Rory's\", 'experiences', 'in', 'the', 'show.', 'I', 'have', 'been', 'watching', 'mostly', 'the', 'repeats', 'on', 'the', 'Family', 'Channel', 'lately,', 'so', 'I', 'am', 'not', 'up-to-date', 'on', 'what', 'is', 'going', 'on', 'now.', 'I', 'think', 'females', 'would', 'like', 'this', 'show', 'more', 'than', 'males,', 'but', 'I', 'know', 'some', 'men', 'out', 'there', 'would', 'enjoy', 'it!', 'I', 'really', 'like', 'that', 'is', 'an', 'hour', 'long', 'and', 'not', 'a', 'half', 'hour,', 'as', 'th', 'hour', 'seems', 'to', 'fly', 'by', 'when', 'I', 'am', 'watching', 'it!', 'Give', 'it', 'a', 'chance', 'if', 'you', 'have', 'never', 'seen', 'the', 'show!', 'I', 'think', 'Lorelei', 'and', 'Luke', 'are', 'my', 'favorite', 'characters', 'on', 'the', 'show', 'though,', 'mainly', 'because', 'of', 'the', 'way', 'they', 'are', 'with', 'one', 'another.', 'How', 'could', 'you', 'not', 'see', 'something', 'was', 'there', '(or', 'take', 'that', 'long', 'to', 'see', 'it', 'I', 'guess', 'I', 'should', 'say)?', '<br', '/><br', '/>Happy', 'viewing!']\n"
     ]
    }
   ],
   "source": [
    "print(basic_tokenizer(review1))\n",
    "print(basic_tokenizer(review2))\n",
    "print(basic_tokenizer(review3))\n"
   ]
  },
  {
   "cell_type": "markdown",
   "metadata": {},
   "source": [
    "### NLTK"
   ]
  },
  {
   "cell_type": "code",
   "execution_count": 43,
   "metadata": {},
   "outputs": [],
   "source": [
    "def nltk_tokenizer(text):\n",
    "    tokens = nltk.word_tokenize(text, preserve_line=True)\n",
    "    return tokens\n",
    "\n",
    "# review1 = df_movie.loc[0, 'review']\n",
    "# review2 = df_movie.loc[1, 'review']\n",
    "# review3 = df_movie.loc[2, 'review']"
   ]
  },
  {
   "cell_type": "code",
   "execution_count": 44,
   "metadata": {},
   "outputs": [
    {
     "name": "stdout",
     "output_type": "stream",
     "text": [
      "['Based', 'on', 'an', 'actual', 'story', ',', 'John', 'Boorman', 'shows', 'the', 'struggle', 'of', 'an', 'American', 'doctor', ',', 'whose', 'husband', 'and', 'son', 'were', 'murdered', 'and', 'she', 'was', 'continually', 'plagued', 'with', 'her', 'loss.', 'A', 'holiday', 'to', 'Burma', 'with', 'her', 'sister', 'seemed', 'like', 'a', 'good', 'idea', 'to', 'get', 'away', 'from', 'it', 'all', ',', 'but', 'when', 'her', 'passport', 'was', 'stolen', 'in', 'Rangoon', ',', 'she', 'could', 'not', 'leave', 'the', 'country', 'with', 'her', 'sister', ',', 'and', 'was', 'forced', 'to', 'stay', 'back', 'until', 'she', 'could', 'get', 'I.D.', 'papers', 'from', 'the', 'American', 'embassy.', 'To', 'fill', 'in', 'a', 'day', 'before', 'she', 'could', 'fly', 'out', ',', 'she', 'took', 'a', 'trip', 'into', 'the', 'countryside', 'with', 'a', 'tour', 'guide.', '``', 'I', 'tried', 'finding', 'something', 'in', 'those', 'stone', 'statues', ',', 'but', 'nothing', 'stirred', 'in', 'me.', 'I', 'was', 'stone', 'myself.', \"''\", '<', 'br', '/', '>', '<', 'br', '/', '>', 'Suddenly', 'all', 'hell', 'broke', 'loose', 'and', 'she', 'was', 'caught', 'in', 'a', 'political', 'revolt.', 'Just', 'when', 'it', 'looked', 'like', 'she', 'had', 'escaped', 'and', 'safely', 'boarded', 'a', 'train', ',', 'she', 'saw', 'her', 'tour', 'guide', 'get', 'beaten', 'and', 'shot.', 'In', 'a', 'split', 'second', 'she', 'decided', 'to', 'jump', 'from', 'the', 'moving', 'train', 'and', 'try', 'to', 'rescue', 'him', ',', 'with', 'no', 'thought', 'of', 'herself.', 'Continually', 'her', 'life', 'was', 'in', 'danger.', '<', 'br', '/', '>', '<', 'br', '/', '>', 'Here', 'is', 'a', 'woman', 'who', 'demonstrated', 'spontaneous', ',', 'selfless', 'charity', ',', 'risking', 'her', 'life', 'to', 'save', 'another.', 'Patricia', 'Arquette', 'is', 'beautiful', ',', 'and', 'not', 'just', 'to', 'look', 'at', ';', 'she', 'has', 'a', 'beautiful', 'heart.', 'This', 'is', 'an', 'unforgettable', 'story.', '<', 'br', '/', '>', '<', 'br', '/', '>', \"''\", 'We', 'are', 'taught', 'that', 'suffering', 'is', 'the', 'one', 'promise', 'that', 'life', 'always', 'keeps', '.', \"''\"]\n",
      "['This', 'is', 'a', 'gem.', 'As', 'a', 'Film', 'Four', 'production', '-', 'the', 'anticipated', 'quality', 'was', 'indeed', 'delivered.', 'Shot', 'with', 'great', 'style', 'that', 'reminded', 'me', 'some', 'Errol', 'Morris', 'films', ',', 'well', 'arranged', 'and', 'simply', 'gripping.', 'It', \"'s\", 'long', 'yet', 'horrifying', 'to', 'the', 'point', 'it', \"'s\", 'excruciating.', 'We', 'know', 'something', 'bad', 'happened', '(', 'one', 'can', 'guess', 'by', 'the', 'lack', 'of', 'participation', 'of', 'a', 'person', 'in', 'the', 'interviews', ')', 'but', 'we', 'are', 'compelled', 'to', 'see', 'it', ',', 'a', 'bit', 'like', 'a', 'car', 'accident', 'in', 'slow', 'motion.', 'The', 'story', 'spans', 'most', 'conceivable', 'aspects', 'and', 'unlike', 'some', 'documentaries', 'did', 'not', 'try', 'and', 'refrain', 'from', 'showing', 'the', 'grimmer', 'sides', 'of', 'the', 'stories', ',', 'as', 'also', 'dealing', 'with', 'the', 'guilt', 'of', 'the', 'people', 'Don', 'left', 'behind', 'him', ',', 'wondering', 'why', 'they', 'did', \"n't\", 'stop', 'him', 'in', 'time.', 'It', 'took', 'me', 'a', 'few', 'hours', 'to', 'get', 'out', 'of', 'the', 'melancholy', 'that', 'gripped', 'me', 'after', 'seeing', 'this', 'very-well', 'made', 'documentary', '.']\n",
      "['I', 'really', 'like', 'this', 'show.', 'It', 'has', 'drama', ',', 'romance', ',', 'and', 'comedy', 'all', 'rolled', 'into', 'one.', 'I', 'am', '28', 'and', 'I', 'am', 'a', 'married', 'mother', ',', 'so', 'I', 'can', 'identify', 'both', 'with', 'Lorelei', \"'s\", 'and', 'Rory', \"'s\", 'experiences', 'in', 'the', 'show.', 'I', 'have', 'been', 'watching', 'mostly', 'the', 'repeats', 'on', 'the', 'Family', 'Channel', 'lately', ',', 'so', 'I', 'am', 'not', 'up-to-date', 'on', 'what', 'is', 'going', 'on', 'now.', 'I', 'think', 'females', 'would', 'like', 'this', 'show', 'more', 'than', 'males', ',', 'but', 'I', 'know', 'some', 'men', 'out', 'there', 'would', 'enjoy', 'it', '!', 'I', 'really', 'like', 'that', 'is', 'an', 'hour', 'long', 'and', 'not', 'a', 'half', 'hour', ',', 'as', 'th', 'hour', 'seems', 'to', 'fly', 'by', 'when', 'I', 'am', 'watching', 'it', '!', 'Give', 'it', 'a', 'chance', 'if', 'you', 'have', 'never', 'seen', 'the', 'show', '!', 'I', 'think', 'Lorelei', 'and', 'Luke', 'are', 'my', 'favorite', 'characters', 'on', 'the', 'show', 'though', ',', 'mainly', 'because', 'of', 'the', 'way', 'they', 'are', 'with', 'one', 'another.', 'How', 'could', 'you', 'not', 'see', 'something', 'was', 'there', '(', 'or', 'take', 'that', 'long', 'to', 'see', 'it', 'I', 'guess', 'I', 'should', 'say', ')', '?', '<', 'br', '/', '>', '<', 'br', '/', '>', 'Happy', 'viewing', '!']\n"
     ]
    }
   ],
   "source": [
    "print(nltk_tokenizer(review1))\n",
    "print(nltk_tokenizer(review2))\n",
    "print(nltk_tokenizer(review3))\n",
    "# returns tokens "
   ]
  },
  {
   "cell_type": "code",
   "execution_count": 45,
   "metadata": {},
   "outputs": [],
   "source": [
    "# nltk.download('stopwords')"
   ]
  },
  {
   "cell_type": "code",
   "execution_count": 46,
   "metadata": {},
   "outputs": [
    {
     "name": "stdout",
     "output_type": "stream",
     "text": [
      "['i', 'me', 'my', 'myself', 'we']\n",
      "179\n"
     ]
    }
   ],
   "source": [
    "stop = nltk.corpus.stopwords.words('english')\n",
    "print(stop[0:5])\n",
    "print(len(stop))"
   ]
  },
  {
   "cell_type": "code",
   "execution_count": 47,
   "metadata": {},
   "outputs": [],
   "source": [
    "def tokens_wo_stopword(text):\n",
    "    tokens = nltk.word_tokenize(text, preserve_line=True)\n",
    "    no_stops = [tok for tok in tokens if tok not in stop]\n",
    "    return no_stops"
   ]
  },
  {
   "cell_type": "code",
   "execution_count": 50,
   "metadata": {},
   "outputs": [
    {
     "name": "stdout",
     "output_type": "stream",
     "text": [
      "['Based', 'actual', 'story', ',', 'John', 'Boorman', 'shows', 'struggle', 'American', 'doctor', ',', 'whose', 'husband', 'son', 'murdered', 'continually', 'plagued', 'loss.', 'A', 'holiday', 'Burma', 'sister', 'seemed', 'like', 'good', 'idea', 'get', 'away', ',', 'passport', 'stolen', 'Rangoon', ',', 'could', 'leave', 'country', 'sister', ',', 'forced', 'stay', 'back', 'could', 'get', 'I.D.', 'papers', 'American', 'embassy.', 'To', 'fill', 'day', 'could', 'fly', ',', 'took', 'trip', 'countryside', 'tour', 'guide.', '``', 'I', 'tried', 'finding', 'something', 'stone', 'statues', ',', 'nothing', 'stirred', 'me.', 'I', 'stone', 'myself.', \"''\", '<', 'br', '/', '>', '<', 'br', '/', '>', 'Suddenly', 'hell', 'broke', 'loose', 'caught', 'political', 'revolt.', 'Just', 'looked', 'like', 'escaped', 'safely', 'boarded', 'train', ',', 'saw', 'tour', 'guide', 'get', 'beaten', 'shot.', 'In', 'split', 'second', 'decided', 'jump', 'moving', 'train', 'try', 'rescue', ',', 'thought', 'herself.', 'Continually', 'life', 'danger.', '<', 'br', '/', '>', '<', 'br', '/', '>', 'Here', 'woman', 'demonstrated', 'spontaneous', ',', 'selfless', 'charity', ',', 'risking', 'life', 'save', 'another.', 'Patricia', 'Arquette', 'beautiful', ',', 'look', ';', 'beautiful', 'heart.', 'This', 'unforgettable', 'story.', '<', 'br', '/', '>', '<', 'br', '/', '>', \"''\", 'We', 'taught', 'suffering', 'one', 'promise', 'life', 'always', 'keeps', '.', \"''\"]\n"
     ]
    }
   ],
   "source": [
    "print(tokens_wo_stopword(review1))\n"
   ]
  },
  {
   "cell_type": "markdown",
   "metadata": {},
   "source": [
    "### Reminder: List comprehenstion"
   ]
  },
  {
   "cell_type": "code",
   "execution_count": 51,
   "metadata": {},
   "outputs": [
    {
     "name": "stdout",
     "output_type": "stream",
     "text": [
      "['Based', 'on', 'an', 'actual', 'story', ',', 'John', 'Boorman', 'shows', 'the', 'struggle', 'of', 'an', 'American', 'doctor', ',', 'whose', 'husband', 'and', 'son', 'were', 'murdered', 'and', 'she', 'was', 'continually', 'plagued', 'with', 'her', 'loss.', 'A', 'holiday', 'to', 'Burma', 'with', 'her', 'sister', 'seemed', 'like', 'a', 'good', 'idea', 'to', 'get', 'away', 'from', 'it', 'all', ',', 'but', 'when', 'her', 'passport', 'was', 'stolen', 'in', 'Rangoon', ',', 'she', 'could', 'not', 'leave', 'the', 'country', 'with', 'her', 'sister', ',', 'and', 'was', 'forced', 'to', 'stay', 'back', 'until', 'she', 'could', 'get', 'I.D.', 'papers', 'from', 'the', 'American', 'embassy.', 'To', 'fill', 'in', 'a', 'day', 'before', 'she', 'could', 'fly', 'out', ',', 'she', 'took', 'a', 'trip', 'into', 'the', 'countryside', 'with', 'a', 'tour', 'guide.', '``', 'I', 'tried', 'finding', 'something', 'in', 'those', 'stone', 'statues', ',', 'but', 'nothing', 'stirred', 'in', 'me.', 'I', 'was', 'stone', 'myself.', \"''\", '<', 'br', '/', '>', '<', 'br', '/', '>', 'Suddenly', 'all', 'hell', 'broke', 'loose', 'and', 'she', 'was', 'caught', 'in', 'a', 'political', 'revolt.', 'Just', 'when', 'it', 'looked', 'like', 'she', 'had', 'escaped', 'and', 'safely', 'boarded', 'a', 'train', ',', 'she', 'saw', 'her', 'tour', 'guide', 'get', 'beaten', 'and', 'shot.', 'In', 'a', 'split', 'second', 'she', 'decided', 'to', 'jump', 'from', 'the', 'moving', 'train', 'and', 'try', 'to', 'rescue', 'him', ',', 'with', 'no', 'thought', 'of', 'herself.', 'Continually', 'her', 'life', 'was', 'in', 'danger.', '<', 'br', '/', '>', '<', 'br', '/', '>', 'Here', 'is', 'a', 'woman', 'who', 'demonstrated', 'spontaneous', ',', 'selfless', 'charity', ',', 'risking', 'her', 'life', 'to', 'save', 'another.', 'Patricia', 'Arquette', 'is', 'beautiful', ',', 'and', 'not', 'just', 'to', 'look', 'at', ';', 'she', 'has', 'a', 'beautiful', 'heart.', 'This', 'is', 'an', 'unforgettable', 'story.', '<', 'br', '/', '>', '<', 'br', '/', '>', \"''\", 'We', 'are', 'taught', 'that', 'suffering', 'is', 'the', 'one', 'promise', 'that', 'life', 'always', 'keeps', '.', \"''\"]\n"
     ]
    }
   ],
   "source": [
    "tokens = nltk.word_tokenize(review1, preserve_line=True)\n",
    "print(tokens)"
   ]
  },
  {
   "cell_type": "code",
   "execution_count": 52,
   "metadata": {},
   "outputs": [],
   "source": [
    "# These are the same:\n",
    "# [expression for item in list if condition]\n",
    "\n",
    "# for item in list: \n",
    "#     if condition: \n",
    "#         expression\n",
    "\n",
    "lst_comp = [tok for tok in tokens if tok not in stop]"
   ]
  },
  {
   "attachments": {},
   "cell_type": "markdown",
   "metadata": {},
   "source": [
    "### Normalization - Porter Stemmer"
   ]
  },
  {
   "cell_type": "code",
   "execution_count": 53,
   "metadata": {},
   "outputs": [],
   "source": [
    "# Example: \n",
    "# U.S.A. should be matched with USA"
   ]
  },
  {
   "cell_type": "code",
   "execution_count": 63,
   "metadata": {},
   "outputs": [],
   "source": [
    "porter = nltk.stem.porter.PorterStemmer()\n",
    "def porter_stemmer(text):\n",
    "    tokens = basic_tokenizer(text)\n",
    "    return [porter.stem(tok) for tok in tokens]"
   ]
  },
  {
   "cell_type": "code",
   "execution_count": 78,
   "metadata": {},
   "outputs": [
    {
     "name": "stdout",
     "output_type": "stream",
     "text": [
      "['base', 'on', 'an', 'actual', 'story,', 'john', 'boorman', 'show', 'the', 'struggl', 'of', 'an', 'american', 'doctor,', 'whose', 'husband', 'and', 'son', 'were', 'murder', 'and', 'she', 'wa', 'continu', 'plagu', 'with', 'her', 'loss.', 'a', 'holiday', 'to', 'burma', 'with', 'her', 'sister', 'seem', 'like', 'a', 'good', 'idea', 'to', 'get', 'away', 'from', 'it', 'all,', 'but', 'when', 'her', 'passport', 'wa', 'stolen', 'in', 'rangoon,', 'she', 'could', 'not', 'leav', 'the', 'countri', 'with', 'her', 'sister,', 'and', 'wa', 'forc', 'to', 'stay', 'back', 'until', 'she', 'could', 'get', 'i.d.', 'paper', 'from', 'the', 'american', 'embassy.', 'to', 'fill', 'in', 'a', 'day', 'befor', 'she', 'could', 'fli', 'out,', 'she', 'took', 'a', 'trip', 'into', 'the', 'countrysid', 'with', 'a', 'tour', 'guide.', '\"i', 'tri', 'find', 'someth', 'in', 'those', 'stone', 'statues,', 'but', 'noth', 'stir', 'in', 'me.', 'i', 'wa', 'stone', 'myself.\"', '<br', '/><br', '/>suddenli', 'all', 'hell', 'broke', 'loos', 'and', 'she', 'wa', 'caught', 'in', 'a', 'polit', 'revolt.', 'just', 'when', 'it', 'look', 'like', 'she', 'had', 'escap', 'and', 'safe', 'board', 'a', 'train,', 'she', 'saw', 'her', 'tour', 'guid', 'get', 'beaten', 'and', 'shot.', 'in', 'a', 'split', 'second', 'she', 'decid', 'to', 'jump', 'from', 'the', 'move', 'train', 'and', 'tri', 'to', 'rescu', 'him,', 'with', 'no', 'thought', 'of', 'herself.', 'continu', 'her', 'life', 'wa', 'in', 'danger.', '<br', '/><br', '/>here', 'is', 'a', 'woman', 'who', 'demonstr', 'spontaneous,', 'selfless', 'charity,', 'risk', 'her', 'life', 'to', 'save', 'another.', 'patricia', 'arquett', 'is', 'beautiful,', 'and', 'not', 'just', 'to', 'look', 'at;', 'she', 'ha', 'a', 'beauti', 'heart.', 'thi', 'is', 'an', 'unforgett', 'story.', '<br', '/><br', '/>\"we', 'are', 'taught', 'that', 'suffer', 'is', 'the', 'one', 'promis', 'that', 'life', 'alway', 'keeps.\"']\n"
     ]
    }
   ],
   "source": [
    "print(porter_stemmer(review1))"
   ]
  },
  {
   "cell_type": "code",
   "execution_count": 79,
   "metadata": {},
   "outputs": [],
   "source": [
    "def porter_stemmer_wo_stops(text):\n",
    "    tokens = basic_tokenizer(text)\n",
    "    return [porter.stem(tok) for tok in tokens if tok not in stop]"
   ]
  },
  {
   "cell_type": "code",
   "execution_count": 80,
   "metadata": {},
   "outputs": [
    {
     "name": "stdout",
     "output_type": "stream",
     "text": [
      "['base', 'actual', 'story,', 'john', 'boorman', 'show', 'struggl', 'american', 'doctor,', 'whose', 'husband', 'son', 'murder', 'continu', 'plagu', 'loss.', 'a', 'holiday', 'burma', 'sister', 'seem', 'like', 'good', 'idea', 'get', 'away', 'all,', 'passport', 'stolen', 'rangoon,', 'could', 'leav', 'countri', 'sister,', 'forc', 'stay', 'back', 'could', 'get', 'i.d.', 'paper', 'american', 'embassy.', 'to', 'fill', 'day', 'could', 'fli', 'out,', 'took', 'trip', 'countrysid', 'tour', 'guide.', '\"i', 'tri', 'find', 'someth', 'stone', 'statues,', 'noth', 'stir', 'me.', 'i', 'stone', 'myself.\"', '<br', '/><br', '/>suddenli', 'hell', 'broke', 'loos', 'caught', 'polit', 'revolt.', 'just', 'look', 'like', 'escap', 'safe', 'board', 'train,', 'saw', 'tour', 'guid', 'get', 'beaten', 'shot.', 'in', 'split', 'second', 'decid', 'jump', 'move', 'train', 'tri', 'rescu', 'him,', 'thought', 'herself.', 'continu', 'life', 'danger.', '<br', '/><br', '/>here', 'woman', 'demonstr', 'spontaneous,', 'selfless', 'charity,', 'risk', 'life', 'save', 'another.', 'patricia', 'arquett', 'beautiful,', 'look', 'at;', 'beauti', 'heart.', 'thi', 'unforgett', 'story.', '<br', '/><br', '/>\"we', 'taught', 'suffer', 'one', 'promis', 'life', 'alway', 'keeps.\"']\n"
     ]
    }
   ],
   "source": [
    "print(porter_stemmer_wo_stops(review1))"
   ]
  },
  {
   "attachments": {},
   "cell_type": "markdown",
   "metadata": {},
   "source": [
    "### Normalization - Lemmatization"
   ]
  },
  {
   "cell_type": "code",
   "execution_count": 69,
   "metadata": {},
   "outputs": [
    {
     "name": "stderr",
     "output_type": "stream",
     "text": [
      "[nltk_data] Downloading package wordnet to\n",
      "[nltk_data]     C:\\Users\\ellins\\AppData\\Roaming\\nltk_data...\n"
     ]
    },
    {
     "data": {
      "text/plain": [
       "True"
      ]
     },
     "execution_count": 69,
     "metadata": {},
     "output_type": "execute_result"
    }
   ],
   "source": [
    "nltk.download('wordnet')"
   ]
  },
  {
   "cell_type": "code",
   "execution_count": 74,
   "metadata": {},
   "outputs": [],
   "source": [
    "def nltk_lemmatizer(text):\n",
    "    tokens = basic_tokenizer(text)\n",
    "    lemma = nltk.WordNetLemmatizer()\n",
    "    return [lemma.lemmatize(tok) for tok in tokens]"
   ]
  },
  {
   "cell_type": "code",
   "execution_count": 75,
   "metadata": {},
   "outputs": [
    {
     "name": "stdout",
     "output_type": "stream",
     "text": [
      "['Based', 'on', 'an', 'actual', 'story,', 'John', 'Boorman', 'show', 'the', 'struggle', 'of', 'an', 'American', 'doctor,', 'whose', 'husband', 'and', 'son', 'were', 'murdered', 'and', 'she', 'wa', 'continually', 'plagued', 'with', 'her', 'loss.', 'A', 'holiday', 'to', 'Burma', 'with', 'her', 'sister', 'seemed', 'like', 'a', 'good', 'idea', 'to', 'get', 'away', 'from', 'it', 'all,', 'but', 'when', 'her', 'passport', 'wa', 'stolen', 'in', 'Rangoon,', 'she', 'could', 'not', 'leave', 'the', 'country', 'with', 'her', 'sister,', 'and', 'wa', 'forced', 'to', 'stay', 'back', 'until', 'she', 'could', 'get', 'I.D.', 'paper', 'from', 'the', 'American', 'embassy.', 'To', 'fill', 'in', 'a', 'day', 'before', 'she', 'could', 'fly', 'out,', 'she', 'took', 'a', 'trip', 'into', 'the', 'countryside', 'with', 'a', 'tour', 'guide.', '\"I', 'tried', 'finding', 'something', 'in', 'those', 'stone', 'statues,', 'but', 'nothing', 'stirred', 'in', 'me.', 'I', 'wa', 'stone', 'myself.\"', '<br', '/><br', '/>Suddenly', 'all', 'hell', 'broke', 'loose', 'and', 'she', 'wa', 'caught', 'in', 'a', 'political', 'revolt.', 'Just', 'when', 'it', 'looked', 'like', 'she', 'had', 'escaped', 'and', 'safely', 'boarded', 'a', 'train,', 'she', 'saw', 'her', 'tour', 'guide', 'get', 'beaten', 'and', 'shot.', 'In', 'a', 'split', 'second', 'she', 'decided', 'to', 'jump', 'from', 'the', 'moving', 'train', 'and', 'try', 'to', 'rescue', 'him,', 'with', 'no', 'thought', 'of', 'herself.', 'Continually', 'her', 'life', 'wa', 'in', 'danger.', '<br', '/><br', '/>Here', 'is', 'a', 'woman', 'who', 'demonstrated', 'spontaneous,', 'selfless', 'charity,', 'risking', 'her', 'life', 'to', 'save', 'another.', 'Patricia', 'Arquette', 'is', 'beautiful,', 'and', 'not', 'just', 'to', 'look', 'at;', 'she', 'ha', 'a', 'beautiful', 'heart.', 'This', 'is', 'an', 'unforgettable', 'story.', '<br', '/><br', '/>\"We', 'are', 'taught', 'that', 'suffering', 'is', 'the', 'one', 'promise', 'that', 'life', 'always', 'keeps.\"']\n"
     ]
    }
   ],
   "source": [
    "print(nltk_lemmatizer(review1))"
   ]
  },
  {
   "cell_type": "code",
   "execution_count": 76,
   "metadata": {},
   "outputs": [],
   "source": [
    "def nltk_lemmatizer_wo_stops(text):\n",
    "    tokens = basic_tokenizer(text)\n",
    "    lemma = nltk.WordNetLemmatizer()\n",
    "    return [lemma.lemmatize(tok) for tok in tokens if tok not in stop]"
   ]
  },
  {
   "cell_type": "code",
   "execution_count": 77,
   "metadata": {},
   "outputs": [
    {
     "name": "stdout",
     "output_type": "stream",
     "text": [
      "['Based', 'actual', 'story,', 'John', 'Boorman', 'show', 'struggle', 'American', 'doctor,', 'whose', 'husband', 'son', 'murdered', 'continually', 'plagued', 'loss.', 'A', 'holiday', 'Burma', 'sister', 'seemed', 'like', 'good', 'idea', 'get', 'away', 'all,', 'passport', 'stolen', 'Rangoon,', 'could', 'leave', 'country', 'sister,', 'forced', 'stay', 'back', 'could', 'get', 'I.D.', 'paper', 'American', 'embassy.', 'To', 'fill', 'day', 'could', 'fly', 'out,', 'took', 'trip', 'countryside', 'tour', 'guide.', '\"I', 'tried', 'finding', 'something', 'stone', 'statues,', 'nothing', 'stirred', 'me.', 'I', 'stone', 'myself.\"', '<br', '/><br', '/>Suddenly', 'hell', 'broke', 'loose', 'caught', 'political', 'revolt.', 'Just', 'looked', 'like', 'escaped', 'safely', 'boarded', 'train,', 'saw', 'tour', 'guide', 'get', 'beaten', 'shot.', 'In', 'split', 'second', 'decided', 'jump', 'moving', 'train', 'try', 'rescue', 'him,', 'thought', 'herself.', 'Continually', 'life', 'danger.', '<br', '/><br', '/>Here', 'woman', 'demonstrated', 'spontaneous,', 'selfless', 'charity,', 'risking', 'life', 'save', 'another.', 'Patricia', 'Arquette', 'beautiful,', 'look', 'at;', 'beautiful', 'heart.', 'This', 'unforgettable', 'story.', '<br', '/><br', '/>\"We', 'taught', 'suffering', 'one', 'promise', 'life', 'always', 'keeps.\"']\n"
     ]
    }
   ],
   "source": [
    "print(nltk_lemmatizer_wo_stops(review1))"
   ]
  },
  {
   "attachments": {},
   "cell_type": "markdown",
   "metadata": {},
   "source": [
    "### Normalization - Bag of Words"
   ]
  },
  {
   "cell_type": "code",
   "execution_count": 97,
   "metadata": {},
   "outputs": [],
   "source": [
    "count = CountVectorizer(ngram_range=(1,3))\n",
    "docs = np.array(['The sun is shining',                              # Document 1\n",
    "                 'The weather is sweet',                            # Document 2\n",
    "                 'The sun is shining and the weather is sweet'])    # Document 3"
   ]
  },
  {
   "cell_type": "code",
   "execution_count": 106,
   "metadata": {},
   "outputs": [
    {
     "name": "stdout",
     "output_type": "stream",
     "text": [
      "Vocabular: {'the': 14, 'sun': 10, 'is': 3, 'shining': 7, 'the sun': 15, 'sun is': 11, 'is shining': 4, 'the sun is': 16, 'sun is shining': 12, 'weather': 19, 'sweet': 13, 'the weather': 17, 'weather is': 20, 'is sweet': 6, 'the weather is': 18, 'weather is sweet': 21, 'and': 0, 'shining and': 8, 'and the': 1, 'is shining and': 5, 'shining and the': 9, 'and the weather': 2}\n"
     ]
    }
   ],
   "source": [
    "bag = count.fit_transform(docs)\n",
    "print('Vocabular:', count.vocabulary_)"
   ]
  },
  {
   "cell_type": "code",
   "execution_count": 107,
   "metadata": {},
   "outputs": [
    {
     "name": "stdout",
     "output_type": "stream",
     "text": [
      "the\n",
      "sun\n",
      "is\n",
      "shining\n",
      "the sun\n",
      "sun is\n",
      "is shining\n",
      "the sun is\n",
      "sun is shining\n",
      "weather\n",
      "sweet\n",
      "the weather\n",
      "weather is\n",
      "is sweet\n",
      "the weather is\n",
      "weather is sweet\n",
      "and\n",
      "shining and\n",
      "and the\n",
      "is shining and\n",
      "shining and the\n",
      "and the weather\n"
     ]
    }
   ],
   "source": [
    "for key in count.vocabulary_.keys():\n",
    "    print(str(key))"
   ]
  },
  {
   "cell_type": "code",
   "execution_count": 121,
   "metadata": {},
   "outputs": [
    {
     "data": {
      "text/plain": [
       "array([[0, 0, 0, 1, 1, 0, 0, 1, 0, 0, 1, 1, 1, 0, 1, 1, 1, 0, 0, 0, 0, 0],\n",
       "       [0, 0, 0, 1, 0, 0, 1, 0, 0, 0, 0, 0, 0, 1, 1, 0, 0, 1, 1, 1, 1, 1],\n",
       "       [1, 1, 1, 2, 1, 1, 1, 1, 1, 1, 1, 1, 1, 1, 2, 1, 1, 1, 1, 1, 1, 1]],\n",
       "      dtype=int64)"
      ]
     },
     "execution_count": 121,
     "metadata": {},
     "output_type": "execute_result"
    }
   ],
   "source": [
    "bag_array = bag.toarray()\n",
    "bag_array"
   ]
  },
  {
   "cell_type": "markdown",
   "metadata": {},
   "source": [
    "### Cosine similarity"
   ]
  },
  {
   "cell_type": "code",
   "execution_count": 114,
   "metadata": {},
   "outputs": [],
   "source": [
    "def compute_cos_sim(array1, array2):\n",
    "    cos_sim = 1-spatial.distance.cosine(array1,array2)\n",
    "    return cos_sim"
   ]
  },
  {
   "cell_type": "code",
   "execution_count": 123,
   "metadata": {},
   "outputs": [
    {
     "data": {
      "text/plain": [
       "0.6929348671835832"
      ]
     },
     "execution_count": 123,
     "metadata": {},
     "output_type": "execute_result"
    }
   ],
   "source": [
    "compute_cos_sim(bag_array[0], bag_array[2])"
   ]
  },
  {
   "cell_type": "code",
   "execution_count": 124,
   "metadata": {},
   "outputs": [],
   "source": [
    "def compute_cos_sim_all(my_array):\n",
    "    n_rows = my_array.shape[0]\n",
    "    cos_sim_array = np.zeros((n_rows,n_rows))\n",
    "    for row1 in range (n_rows):\n",
    "        for row2 in range (n_rows):\n",
    "            cos_sim_array[row1, row2] = compute_cos_sim(my_array[row1,:], my_array[row2,:])\n",
    "    return cos_sim_array\n"
   ]
  },
  {
   "cell_type": "code",
   "execution_count": 129,
   "metadata": {},
   "outputs": [],
   "source": [
    "comssim_values = compute_cos_sim_all(bag_array)"
   ]
  },
  {
   "cell_type": "code",
   "execution_count": 137,
   "metadata": {},
   "outputs": [
    {
     "data": {
      "image/png": "[encoded data removed]",
      "text/plain": [
       "<Figure size 640x480 with 2 Axes>"
      ]
     },
     "metadata": {},
     "output_type": "display_data"
    }
   ],
   "source": [
    "fig = plt.figure()\n",
    "ax = plt.imshow(comssim_values, cmap = 'winter')\n",
    "cbar = fig.colorbar(ax)\n",
    "plt.show()"
   ]
  },
  {
   "cell_type": "code",
   "execution_count": null,
   "metadata": {},
   "outputs": [],
   "source": []
  }
 ],
 "metadata": {
  "kernelspec": {
   "display_name": "Python 3",
   "language": "python",
   "name": "python3"
  },
  "language_info": {
   "codemirror_mode": {
    "name": "ipython",
    "version": 3
   },
   "file_extension": ".py",
   "mimetype": "text/x-python",
   "name": "python",
   "nbconvert_exporter": "python",
   "pygments_lexer": "ipython3",
   "version": "3.11.3"
  },
  "orig_nbformat": 4
 },
 "nbformat": 4,
 "nbformat_minor": 2
}
